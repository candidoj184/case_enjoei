{
 "cells": [
  {
   "cell_type": "markdown",
   "metadata": {},
   "source": [
    "## Imports"
   ]
  },
  {
   "cell_type": "code",
   "execution_count": 1,
   "metadata": {},
   "outputs": [],
   "source": [
    "import pandas as pd"
   ]
  },
  {
   "cell_type": "markdown",
   "metadata": {},
   "source": [
    "## Leitura da base"
   ]
  },
  {
   "cell_type": "markdown",
   "metadata": {},
   "source": [
    "### Primeira leitura para checagem de dados"
   ]
  },
  {
   "cell_type": "code",
   "execution_count": 2,
   "metadata": {},
   "outputs": [],
   "source": [
    "df_users = pd.read_parquet('C:/Users/candi/OneDrive/Documentos/GitHub/case_enjoei/datasets/bronze/users.parquet')"
   ]
  },
  {
   "cell_type": "code",
   "execution_count": 3,
   "metadata": {},
   "outputs": [
    {
     "data": {
      "text/html": [
       "<div>\n",
       "<style scoped>\n",
       "    .dataframe tbody tr th:only-of-type {\n",
       "        vertical-align: middle;\n",
       "    }\n",
       "\n",
       "    .dataframe tbody tr th {\n",
       "        vertical-align: top;\n",
       "    }\n",
       "\n",
       "    .dataframe thead th {\n",
       "        text-align: right;\n",
       "    }\n",
       "</style>\n",
       "<table border=\"1\" class=\"dataframe\">\n",
       "  <thead>\n",
       "    <tr style=\"text-align: right;\">\n",
       "      <th></th>\n",
       "      <th>address</th>\n",
       "      <th>id</th>\n",
       "      <th>email</th>\n",
       "      <th>username</th>\n",
       "      <th>password</th>\n",
       "      <th>name</th>\n",
       "      <th>phone</th>\n",
       "      <th>__v</th>\n",
       "    </tr>\n",
       "  </thead>\n",
       "  <tbody>\n",
       "    <tr>\n",
       "      <th>0</th>\n",
       "      <td>{'city': 'kilcoole', 'geolocation': {'lat': '-...</td>\n",
       "      <td>1</td>\n",
       "      <td>john@gmail.com</td>\n",
       "      <td>johnd</td>\n",
       "      <td>m38rmF$</td>\n",
       "      <td>{'firstname': 'john', 'lastname': 'doe'}</td>\n",
       "      <td>1-570-236-7033</td>\n",
       "      <td>0</td>\n",
       "    </tr>\n",
       "    <tr>\n",
       "      <th>1</th>\n",
       "      <td>{'city': 'kilcoole', 'geolocation': {'lat': '-...</td>\n",
       "      <td>2</td>\n",
       "      <td>morrison@gmail.com</td>\n",
       "      <td>mor_2314</td>\n",
       "      <td>83r5^_</td>\n",
       "      <td>{'firstname': 'david', 'lastname': 'morrison'}</td>\n",
       "      <td>1-570-236-7033</td>\n",
       "      <td>0</td>\n",
       "    </tr>\n",
       "    <tr>\n",
       "      <th>2</th>\n",
       "      <td>{'city': 'Cullman', 'geolocation': {'lat': '40...</td>\n",
       "      <td>3</td>\n",
       "      <td>kevin@gmail.com</td>\n",
       "      <td>kevinryan</td>\n",
       "      <td>kev02937@</td>\n",
       "      <td>{'firstname': 'kevin', 'lastname': 'ryan'}</td>\n",
       "      <td>1-567-094-1345</td>\n",
       "      <td>0</td>\n",
       "    </tr>\n",
       "    <tr>\n",
       "      <th>3</th>\n",
       "      <td>{'city': 'San Antonio', 'geolocation': {'lat':...</td>\n",
       "      <td>4</td>\n",
       "      <td>don@gmail.com</td>\n",
       "      <td>donero</td>\n",
       "      <td>ewedon</td>\n",
       "      <td>{'firstname': 'don', 'lastname': 'romer'}</td>\n",
       "      <td>1-765-789-6734</td>\n",
       "      <td>0</td>\n",
       "    </tr>\n",
       "    <tr>\n",
       "      <th>4</th>\n",
       "      <td>{'city': 'san Antonio', 'geolocation': {'lat':...</td>\n",
       "      <td>5</td>\n",
       "      <td>derek@gmail.com</td>\n",
       "      <td>derek</td>\n",
       "      <td>jklg*_56</td>\n",
       "      <td>{'firstname': 'derek', 'lastname': 'powell'}</td>\n",
       "      <td>1-956-001-1945</td>\n",
       "      <td>0</td>\n",
       "    </tr>\n",
       "    <tr>\n",
       "      <th>5</th>\n",
       "      <td>{'city': 'el paso', 'geolocation': {'lat': '20...</td>\n",
       "      <td>6</td>\n",
       "      <td>david_r@gmail.com</td>\n",
       "      <td>david_r</td>\n",
       "      <td>3478*#54</td>\n",
       "      <td>{'firstname': 'david', 'lastname': 'russell'}</td>\n",
       "      <td>1-678-345-9856</td>\n",
       "      <td>0</td>\n",
       "    </tr>\n",
       "    <tr>\n",
       "      <th>6</th>\n",
       "      <td>{'city': 'fresno', 'geolocation': {'lat': '10....</td>\n",
       "      <td>7</td>\n",
       "      <td>miriam@gmail.com</td>\n",
       "      <td>snyder</td>\n",
       "      <td>f238&amp;@*$</td>\n",
       "      <td>{'firstname': 'miriam', 'lastname': 'snyder'}</td>\n",
       "      <td>1-123-943-0563</td>\n",
       "      <td>0</td>\n",
       "    </tr>\n",
       "    <tr>\n",
       "      <th>7</th>\n",
       "      <td>{'city': 'mesa', 'geolocation': {'lat': '50.34...</td>\n",
       "      <td>8</td>\n",
       "      <td>william@gmail.com</td>\n",
       "      <td>hopkins</td>\n",
       "      <td>William56$hj</td>\n",
       "      <td>{'firstname': 'william', 'lastname': 'hopkins'}</td>\n",
       "      <td>1-478-001-0890</td>\n",
       "      <td>0</td>\n",
       "    </tr>\n",
       "    <tr>\n",
       "      <th>8</th>\n",
       "      <td>{'city': 'miami', 'geolocation': {'lat': '40.1...</td>\n",
       "      <td>9</td>\n",
       "      <td>kate@gmail.com</td>\n",
       "      <td>kate_h</td>\n",
       "      <td>kfejk@*_</td>\n",
       "      <td>{'firstname': 'kate', 'lastname': 'hale'}</td>\n",
       "      <td>1-678-456-1934</td>\n",
       "      <td>0</td>\n",
       "    </tr>\n",
       "    <tr>\n",
       "      <th>9</th>\n",
       "      <td>{'city': 'fort wayne', 'geolocation': {'lat': ...</td>\n",
       "      <td>10</td>\n",
       "      <td>jimmie@gmail.com</td>\n",
       "      <td>jimmie_k</td>\n",
       "      <td>klein*#%*</td>\n",
       "      <td>{'firstname': 'jimmie', 'lastname': 'klein'}</td>\n",
       "      <td>1-104-001-4567</td>\n",
       "      <td>0</td>\n",
       "    </tr>\n",
       "  </tbody>\n",
       "</table>\n",
       "</div>"
      ],
      "text/plain": [
       "                                             address  id               email  \\\n",
       "0  {'city': 'kilcoole', 'geolocation': {'lat': '-...   1      john@gmail.com   \n",
       "1  {'city': 'kilcoole', 'geolocation': {'lat': '-...   2  morrison@gmail.com   \n",
       "2  {'city': 'Cullman', 'geolocation': {'lat': '40...   3     kevin@gmail.com   \n",
       "3  {'city': 'San Antonio', 'geolocation': {'lat':...   4       don@gmail.com   \n",
       "4  {'city': 'san Antonio', 'geolocation': {'lat':...   5     derek@gmail.com   \n",
       "5  {'city': 'el paso', 'geolocation': {'lat': '20...   6   david_r@gmail.com   \n",
       "6  {'city': 'fresno', 'geolocation': {'lat': '10....   7    miriam@gmail.com   \n",
       "7  {'city': 'mesa', 'geolocation': {'lat': '50.34...   8   william@gmail.com   \n",
       "8  {'city': 'miami', 'geolocation': {'lat': '40.1...   9      kate@gmail.com   \n",
       "9  {'city': 'fort wayne', 'geolocation': {'lat': ...  10    jimmie@gmail.com   \n",
       "\n",
       "    username      password                                             name  \\\n",
       "0      johnd       m38rmF$         {'firstname': 'john', 'lastname': 'doe'}   \n",
       "1   mor_2314        83r5^_   {'firstname': 'david', 'lastname': 'morrison'}   \n",
       "2  kevinryan     kev02937@       {'firstname': 'kevin', 'lastname': 'ryan'}   \n",
       "3     donero        ewedon        {'firstname': 'don', 'lastname': 'romer'}   \n",
       "4      derek      jklg*_56     {'firstname': 'derek', 'lastname': 'powell'}   \n",
       "5    david_r      3478*#54    {'firstname': 'david', 'lastname': 'russell'}   \n",
       "6     snyder      f238&@*$    {'firstname': 'miriam', 'lastname': 'snyder'}   \n",
       "7    hopkins  William56$hj  {'firstname': 'william', 'lastname': 'hopkins'}   \n",
       "8     kate_h      kfejk@*_        {'firstname': 'kate', 'lastname': 'hale'}   \n",
       "9   jimmie_k     klein*#%*     {'firstname': 'jimmie', 'lastname': 'klein'}   \n",
       "\n",
       "            phone  __v  \n",
       "0  1-570-236-7033    0  \n",
       "1  1-570-236-7033    0  \n",
       "2  1-567-094-1345    0  \n",
       "3  1-765-789-6734    0  \n",
       "4  1-956-001-1945    0  \n",
       "5  1-678-345-9856    0  \n",
       "6  1-123-943-0563    0  \n",
       "7  1-478-001-0890    0  \n",
       "8  1-678-456-1934    0  \n",
       "9  1-104-001-4567    0  "
      ]
     },
     "execution_count": 3,
     "metadata": {},
     "output_type": "execute_result"
    }
   ],
   "source": [
    "df_users"
   ]
  },
  {
   "cell_type": "markdown",
   "metadata": {},
   "source": [
    "# Tratamentos da base"
   ]
  },
  {
   "cell_type": "markdown",
   "metadata": {},
   "source": [
    "Remoção dos valores aninhados da coluna \"name\" e os transformando em uma nova coluna"
   ]
  },
  {
   "cell_type": "code",
   "execution_count": 4,
   "metadata": {},
   "outputs": [],
   "source": [
    "# extração do primeiro e último nome guardado no dicionário para concatená-los\n",
    "df_users['full_name'] = df_users['name'].apply(lambda x: f\"{x['firstname']} {x['lastname']}\")"
   ]
  },
  {
   "cell_type": "markdown",
   "metadata": {},
   "source": [
    "### Conferência do resultado"
   ]
  },
  {
   "cell_type": "code",
   "execution_count": 5,
   "metadata": {},
   "outputs": [
    {
     "data": {
      "text/html": [
       "<div>\n",
       "<style scoped>\n",
       "    .dataframe tbody tr th:only-of-type {\n",
       "        vertical-align: middle;\n",
       "    }\n",
       "\n",
       "    .dataframe tbody tr th {\n",
       "        vertical-align: top;\n",
       "    }\n",
       "\n",
       "    .dataframe thead th {\n",
       "        text-align: right;\n",
       "    }\n",
       "</style>\n",
       "<table border=\"1\" class=\"dataframe\">\n",
       "  <thead>\n",
       "    <tr style=\"text-align: right;\">\n",
       "      <th></th>\n",
       "      <th>address</th>\n",
       "      <th>id</th>\n",
       "      <th>email</th>\n",
       "      <th>username</th>\n",
       "      <th>password</th>\n",
       "      <th>name</th>\n",
       "      <th>phone</th>\n",
       "      <th>__v</th>\n",
       "      <th>full_name</th>\n",
       "    </tr>\n",
       "  </thead>\n",
       "  <tbody>\n",
       "    <tr>\n",
       "      <th>0</th>\n",
       "      <td>{'city': 'kilcoole', 'geolocation': {'lat': '-...</td>\n",
       "      <td>1</td>\n",
       "      <td>john@gmail.com</td>\n",
       "      <td>johnd</td>\n",
       "      <td>m38rmF$</td>\n",
       "      <td>{'firstname': 'john', 'lastname': 'doe'}</td>\n",
       "      <td>1-570-236-7033</td>\n",
       "      <td>0</td>\n",
       "      <td>john doe</td>\n",
       "    </tr>\n",
       "    <tr>\n",
       "      <th>1</th>\n",
       "      <td>{'city': 'kilcoole', 'geolocation': {'lat': '-...</td>\n",
       "      <td>2</td>\n",
       "      <td>morrison@gmail.com</td>\n",
       "      <td>mor_2314</td>\n",
       "      <td>83r5^_</td>\n",
       "      <td>{'firstname': 'david', 'lastname': 'morrison'}</td>\n",
       "      <td>1-570-236-7033</td>\n",
       "      <td>0</td>\n",
       "      <td>david morrison</td>\n",
       "    </tr>\n",
       "    <tr>\n",
       "      <th>2</th>\n",
       "      <td>{'city': 'Cullman', 'geolocation': {'lat': '40...</td>\n",
       "      <td>3</td>\n",
       "      <td>kevin@gmail.com</td>\n",
       "      <td>kevinryan</td>\n",
       "      <td>kev02937@</td>\n",
       "      <td>{'firstname': 'kevin', 'lastname': 'ryan'}</td>\n",
       "      <td>1-567-094-1345</td>\n",
       "      <td>0</td>\n",
       "      <td>kevin ryan</td>\n",
       "    </tr>\n",
       "    <tr>\n",
       "      <th>3</th>\n",
       "      <td>{'city': 'San Antonio', 'geolocation': {'lat':...</td>\n",
       "      <td>4</td>\n",
       "      <td>don@gmail.com</td>\n",
       "      <td>donero</td>\n",
       "      <td>ewedon</td>\n",
       "      <td>{'firstname': 'don', 'lastname': 'romer'}</td>\n",
       "      <td>1-765-789-6734</td>\n",
       "      <td>0</td>\n",
       "      <td>don romer</td>\n",
       "    </tr>\n",
       "    <tr>\n",
       "      <th>4</th>\n",
       "      <td>{'city': 'san Antonio', 'geolocation': {'lat':...</td>\n",
       "      <td>5</td>\n",
       "      <td>derek@gmail.com</td>\n",
       "      <td>derek</td>\n",
       "      <td>jklg*_56</td>\n",
       "      <td>{'firstname': 'derek', 'lastname': 'powell'}</td>\n",
       "      <td>1-956-001-1945</td>\n",
       "      <td>0</td>\n",
       "      <td>derek powell</td>\n",
       "    </tr>\n",
       "    <tr>\n",
       "      <th>5</th>\n",
       "      <td>{'city': 'el paso', 'geolocation': {'lat': '20...</td>\n",
       "      <td>6</td>\n",
       "      <td>david_r@gmail.com</td>\n",
       "      <td>david_r</td>\n",
       "      <td>3478*#54</td>\n",
       "      <td>{'firstname': 'david', 'lastname': 'russell'}</td>\n",
       "      <td>1-678-345-9856</td>\n",
       "      <td>0</td>\n",
       "      <td>david russell</td>\n",
       "    </tr>\n",
       "    <tr>\n",
       "      <th>6</th>\n",
       "      <td>{'city': 'fresno', 'geolocation': {'lat': '10....</td>\n",
       "      <td>7</td>\n",
       "      <td>miriam@gmail.com</td>\n",
       "      <td>snyder</td>\n",
       "      <td>f238&amp;@*$</td>\n",
       "      <td>{'firstname': 'miriam', 'lastname': 'snyder'}</td>\n",
       "      <td>1-123-943-0563</td>\n",
       "      <td>0</td>\n",
       "      <td>miriam snyder</td>\n",
       "    </tr>\n",
       "    <tr>\n",
       "      <th>7</th>\n",
       "      <td>{'city': 'mesa', 'geolocation': {'lat': '50.34...</td>\n",
       "      <td>8</td>\n",
       "      <td>william@gmail.com</td>\n",
       "      <td>hopkins</td>\n",
       "      <td>William56$hj</td>\n",
       "      <td>{'firstname': 'william', 'lastname': 'hopkins'}</td>\n",
       "      <td>1-478-001-0890</td>\n",
       "      <td>0</td>\n",
       "      <td>william hopkins</td>\n",
       "    </tr>\n",
       "    <tr>\n",
       "      <th>8</th>\n",
       "      <td>{'city': 'miami', 'geolocation': {'lat': '40.1...</td>\n",
       "      <td>9</td>\n",
       "      <td>kate@gmail.com</td>\n",
       "      <td>kate_h</td>\n",
       "      <td>kfejk@*_</td>\n",
       "      <td>{'firstname': 'kate', 'lastname': 'hale'}</td>\n",
       "      <td>1-678-456-1934</td>\n",
       "      <td>0</td>\n",
       "      <td>kate hale</td>\n",
       "    </tr>\n",
       "    <tr>\n",
       "      <th>9</th>\n",
       "      <td>{'city': 'fort wayne', 'geolocation': {'lat': ...</td>\n",
       "      <td>10</td>\n",
       "      <td>jimmie@gmail.com</td>\n",
       "      <td>jimmie_k</td>\n",
       "      <td>klein*#%*</td>\n",
       "      <td>{'firstname': 'jimmie', 'lastname': 'klein'}</td>\n",
       "      <td>1-104-001-4567</td>\n",
       "      <td>0</td>\n",
       "      <td>jimmie klein</td>\n",
       "    </tr>\n",
       "  </tbody>\n",
       "</table>\n",
       "</div>"
      ],
      "text/plain": [
       "                                             address  id               email  \\\n",
       "0  {'city': 'kilcoole', 'geolocation': {'lat': '-...   1      john@gmail.com   \n",
       "1  {'city': 'kilcoole', 'geolocation': {'lat': '-...   2  morrison@gmail.com   \n",
       "2  {'city': 'Cullman', 'geolocation': {'lat': '40...   3     kevin@gmail.com   \n",
       "3  {'city': 'San Antonio', 'geolocation': {'lat':...   4       don@gmail.com   \n",
       "4  {'city': 'san Antonio', 'geolocation': {'lat':...   5     derek@gmail.com   \n",
       "5  {'city': 'el paso', 'geolocation': {'lat': '20...   6   david_r@gmail.com   \n",
       "6  {'city': 'fresno', 'geolocation': {'lat': '10....   7    miriam@gmail.com   \n",
       "7  {'city': 'mesa', 'geolocation': {'lat': '50.34...   8   william@gmail.com   \n",
       "8  {'city': 'miami', 'geolocation': {'lat': '40.1...   9      kate@gmail.com   \n",
       "9  {'city': 'fort wayne', 'geolocation': {'lat': ...  10    jimmie@gmail.com   \n",
       "\n",
       "    username      password                                             name  \\\n",
       "0      johnd       m38rmF$         {'firstname': 'john', 'lastname': 'doe'}   \n",
       "1   mor_2314        83r5^_   {'firstname': 'david', 'lastname': 'morrison'}   \n",
       "2  kevinryan     kev02937@       {'firstname': 'kevin', 'lastname': 'ryan'}   \n",
       "3     donero        ewedon        {'firstname': 'don', 'lastname': 'romer'}   \n",
       "4      derek      jklg*_56     {'firstname': 'derek', 'lastname': 'powell'}   \n",
       "5    david_r      3478*#54    {'firstname': 'david', 'lastname': 'russell'}   \n",
       "6     snyder      f238&@*$    {'firstname': 'miriam', 'lastname': 'snyder'}   \n",
       "7    hopkins  William56$hj  {'firstname': 'william', 'lastname': 'hopkins'}   \n",
       "8     kate_h      kfejk@*_        {'firstname': 'kate', 'lastname': 'hale'}   \n",
       "9   jimmie_k     klein*#%*     {'firstname': 'jimmie', 'lastname': 'klein'}   \n",
       "\n",
       "            phone  __v        full_name  \n",
       "0  1-570-236-7033    0         john doe  \n",
       "1  1-570-236-7033    0   david morrison  \n",
       "2  1-567-094-1345    0       kevin ryan  \n",
       "3  1-765-789-6734    0        don romer  \n",
       "4  1-956-001-1945    0     derek powell  \n",
       "5  1-678-345-9856    0    david russell  \n",
       "6  1-123-943-0563    0    miriam snyder  \n",
       "7  1-478-001-0890    0  william hopkins  \n",
       "8  1-678-456-1934    0        kate hale  \n",
       "9  1-104-001-4567    0     jimmie klein  "
      ]
     },
     "execution_count": 5,
     "metadata": {},
     "output_type": "execute_result"
    }
   ],
   "source": [
    "df_users"
   ]
  },
  {
   "cell_type": "markdown",
   "metadata": {},
   "source": [
    "Remoção dos valores guardados em dicionários na coluna \"address\" e os transformando em um dataframe"
   ]
  },
  {
   "cell_type": "code",
   "execution_count": 6,
   "metadata": {},
   "outputs": [],
   "source": [
    "# Remoção dos valores de \"address\" e transformando em um Dataframe\n",
    "df_address = pd.json_normalize(df_users['address'].tolist(),sep='_')"
   ]
  },
  {
   "cell_type": "markdown",
   "metadata": {},
   "source": [
    "### Conferência do resultado"
   ]
  },
  {
   "cell_type": "code",
   "execution_count": 7,
   "metadata": {},
   "outputs": [
    {
     "data": {
      "text/html": [
       "<div>\n",
       "<style scoped>\n",
       "    .dataframe tbody tr th:only-of-type {\n",
       "        vertical-align: middle;\n",
       "    }\n",
       "\n",
       "    .dataframe tbody tr th {\n",
       "        vertical-align: top;\n",
       "    }\n",
       "\n",
       "    .dataframe thead th {\n",
       "        text-align: right;\n",
       "    }\n",
       "</style>\n",
       "<table border=\"1\" class=\"dataframe\">\n",
       "  <thead>\n",
       "    <tr style=\"text-align: right;\">\n",
       "      <th></th>\n",
       "      <th>city</th>\n",
       "      <th>number</th>\n",
       "      <th>street</th>\n",
       "      <th>zipcode</th>\n",
       "      <th>geolocation_lat</th>\n",
       "      <th>geolocation_long</th>\n",
       "    </tr>\n",
       "  </thead>\n",
       "  <tbody>\n",
       "    <tr>\n",
       "      <th>0</th>\n",
       "      <td>kilcoole</td>\n",
       "      <td>7682</td>\n",
       "      <td>new road</td>\n",
       "      <td>12926-3874</td>\n",
       "      <td>-37.3159</td>\n",
       "      <td>81.1496</td>\n",
       "    </tr>\n",
       "    <tr>\n",
       "      <th>1</th>\n",
       "      <td>kilcoole</td>\n",
       "      <td>7267</td>\n",
       "      <td>Lovers Ln</td>\n",
       "      <td>12926-3874</td>\n",
       "      <td>-37.3159</td>\n",
       "      <td>81.1496</td>\n",
       "    </tr>\n",
       "    <tr>\n",
       "      <th>2</th>\n",
       "      <td>Cullman</td>\n",
       "      <td>86</td>\n",
       "      <td>Frances Ct</td>\n",
       "      <td>29567-1452</td>\n",
       "      <td>40.3467</td>\n",
       "      <td>-30.1310</td>\n",
       "    </tr>\n",
       "    <tr>\n",
       "      <th>3</th>\n",
       "      <td>San Antonio</td>\n",
       "      <td>6454</td>\n",
       "      <td>Hunters Creek Dr</td>\n",
       "      <td>98234-1734</td>\n",
       "      <td>50.3467</td>\n",
       "      <td>-20.1310</td>\n",
       "    </tr>\n",
       "    <tr>\n",
       "      <th>4</th>\n",
       "      <td>san Antonio</td>\n",
       "      <td>245</td>\n",
       "      <td>adams St</td>\n",
       "      <td>80796-1234</td>\n",
       "      <td>40.3467</td>\n",
       "      <td>-40.1310</td>\n",
       "    </tr>\n",
       "    <tr>\n",
       "      <th>5</th>\n",
       "      <td>el paso</td>\n",
       "      <td>124</td>\n",
       "      <td>prospect st</td>\n",
       "      <td>12346-0456</td>\n",
       "      <td>20.1677</td>\n",
       "      <td>-10.6789</td>\n",
       "    </tr>\n",
       "    <tr>\n",
       "      <th>6</th>\n",
       "      <td>fresno</td>\n",
       "      <td>1342</td>\n",
       "      <td>saddle st</td>\n",
       "      <td>96378-0245</td>\n",
       "      <td>10.3456</td>\n",
       "      <td>20.6419</td>\n",
       "    </tr>\n",
       "    <tr>\n",
       "      <th>7</th>\n",
       "      <td>mesa</td>\n",
       "      <td>1342</td>\n",
       "      <td>vally view ln</td>\n",
       "      <td>96378-0245</td>\n",
       "      <td>50.3456</td>\n",
       "      <td>10.6419</td>\n",
       "    </tr>\n",
       "    <tr>\n",
       "      <th>8</th>\n",
       "      <td>miami</td>\n",
       "      <td>345</td>\n",
       "      <td>avondale ave</td>\n",
       "      <td>96378-0245</td>\n",
       "      <td>40.12456</td>\n",
       "      <td>20.5419</td>\n",
       "    </tr>\n",
       "    <tr>\n",
       "      <th>9</th>\n",
       "      <td>fort wayne</td>\n",
       "      <td>526</td>\n",
       "      <td>oak lawn ave</td>\n",
       "      <td>10256-4532</td>\n",
       "      <td>30.24788</td>\n",
       "      <td>-20.545419</td>\n",
       "    </tr>\n",
       "  </tbody>\n",
       "</table>\n",
       "</div>"
      ],
      "text/plain": [
       "          city  number            street     zipcode geolocation_lat  \\\n",
       "0     kilcoole    7682          new road  12926-3874        -37.3159   \n",
       "1     kilcoole    7267         Lovers Ln  12926-3874        -37.3159   \n",
       "2      Cullman      86        Frances Ct  29567-1452         40.3467   \n",
       "3  San Antonio    6454  Hunters Creek Dr  98234-1734         50.3467   \n",
       "4  san Antonio     245          adams St  80796-1234         40.3467   \n",
       "5      el paso     124       prospect st  12346-0456         20.1677   \n",
       "6       fresno    1342         saddle st  96378-0245         10.3456   \n",
       "7         mesa    1342     vally view ln  96378-0245         50.3456   \n",
       "8        miami     345      avondale ave  96378-0245        40.12456   \n",
       "9   fort wayne     526      oak lawn ave  10256-4532        30.24788   \n",
       "\n",
       "  geolocation_long  \n",
       "0          81.1496  \n",
       "1          81.1496  \n",
       "2         -30.1310  \n",
       "3         -20.1310  \n",
       "4         -40.1310  \n",
       "5         -10.6789  \n",
       "6          20.6419  \n",
       "7          10.6419  \n",
       "8          20.5419  \n",
       "9       -20.545419  "
      ]
     },
     "execution_count": 7,
     "metadata": {},
     "output_type": "execute_result"
    }
   ],
   "source": [
    "df_address"
   ]
  },
  {
   "cell_type": "markdown",
   "metadata": {},
   "source": [
    "Remoção das colunas address e nome + junção dos dataframes"
   ]
  },
  {
   "cell_type": "code",
   "execution_count": 8,
   "metadata": {},
   "outputs": [],
   "source": [
    "# Remoção da coluna address e name originais \n",
    "df_users = df_users.drop('address', axis=1)\n",
    "df_users = df_users.drop('name', axis=1)\n",
    "# Juntação dos DataFrames\n",
    "df_final = pd.concat([df_users, df_address], axis=1)"
   ]
  },
  {
   "cell_type": "markdown",
   "metadata": {},
   "source": [
    "## Alteração e padronização dos nomes das colunas \"id\" e \"zipcode\""
   ]
  },
  {
   "cell_type": "code",
   "execution_count": 9,
   "metadata": {},
   "outputs": [],
   "source": [
    "df_final.rename(columns={'id': 'user_id', 'zipcode': 'zip_code'}, inplace=True)"
   ]
  },
  {
   "cell_type": "markdown",
   "metadata": {},
   "source": [
    "### Conferência do resultado"
   ]
  },
  {
   "cell_type": "code",
   "execution_count": 10,
   "metadata": {},
   "outputs": [
    {
     "data": {
      "text/html": [
       "<div>\n",
       "<style scoped>\n",
       "    .dataframe tbody tr th:only-of-type {\n",
       "        vertical-align: middle;\n",
       "    }\n",
       "\n",
       "    .dataframe tbody tr th {\n",
       "        vertical-align: top;\n",
       "    }\n",
       "\n",
       "    .dataframe thead th {\n",
       "        text-align: right;\n",
       "    }\n",
       "</style>\n",
       "<table border=\"1\" class=\"dataframe\">\n",
       "  <thead>\n",
       "    <tr style=\"text-align: right;\">\n",
       "      <th></th>\n",
       "      <th>user_id</th>\n",
       "      <th>email</th>\n",
       "      <th>username</th>\n",
       "      <th>password</th>\n",
       "      <th>phone</th>\n",
       "      <th>__v</th>\n",
       "      <th>full_name</th>\n",
       "      <th>city</th>\n",
       "      <th>number</th>\n",
       "      <th>street</th>\n",
       "      <th>zip_code</th>\n",
       "      <th>geolocation_lat</th>\n",
       "      <th>geolocation_long</th>\n",
       "    </tr>\n",
       "  </thead>\n",
       "  <tbody>\n",
       "    <tr>\n",
       "      <th>0</th>\n",
       "      <td>1</td>\n",
       "      <td>john@gmail.com</td>\n",
       "      <td>johnd</td>\n",
       "      <td>m38rmF$</td>\n",
       "      <td>1-570-236-7033</td>\n",
       "      <td>0</td>\n",
       "      <td>john doe</td>\n",
       "      <td>kilcoole</td>\n",
       "      <td>7682</td>\n",
       "      <td>new road</td>\n",
       "      <td>12926-3874</td>\n",
       "      <td>-37.3159</td>\n",
       "      <td>81.1496</td>\n",
       "    </tr>\n",
       "    <tr>\n",
       "      <th>1</th>\n",
       "      <td>2</td>\n",
       "      <td>morrison@gmail.com</td>\n",
       "      <td>mor_2314</td>\n",
       "      <td>83r5^_</td>\n",
       "      <td>1-570-236-7033</td>\n",
       "      <td>0</td>\n",
       "      <td>david morrison</td>\n",
       "      <td>kilcoole</td>\n",
       "      <td>7267</td>\n",
       "      <td>Lovers Ln</td>\n",
       "      <td>12926-3874</td>\n",
       "      <td>-37.3159</td>\n",
       "      <td>81.1496</td>\n",
       "    </tr>\n",
       "    <tr>\n",
       "      <th>2</th>\n",
       "      <td>3</td>\n",
       "      <td>kevin@gmail.com</td>\n",
       "      <td>kevinryan</td>\n",
       "      <td>kev02937@</td>\n",
       "      <td>1-567-094-1345</td>\n",
       "      <td>0</td>\n",
       "      <td>kevin ryan</td>\n",
       "      <td>Cullman</td>\n",
       "      <td>86</td>\n",
       "      <td>Frances Ct</td>\n",
       "      <td>29567-1452</td>\n",
       "      <td>40.3467</td>\n",
       "      <td>-30.1310</td>\n",
       "    </tr>\n",
       "    <tr>\n",
       "      <th>3</th>\n",
       "      <td>4</td>\n",
       "      <td>don@gmail.com</td>\n",
       "      <td>donero</td>\n",
       "      <td>ewedon</td>\n",
       "      <td>1-765-789-6734</td>\n",
       "      <td>0</td>\n",
       "      <td>don romer</td>\n",
       "      <td>San Antonio</td>\n",
       "      <td>6454</td>\n",
       "      <td>Hunters Creek Dr</td>\n",
       "      <td>98234-1734</td>\n",
       "      <td>50.3467</td>\n",
       "      <td>-20.1310</td>\n",
       "    </tr>\n",
       "    <tr>\n",
       "      <th>4</th>\n",
       "      <td>5</td>\n",
       "      <td>derek@gmail.com</td>\n",
       "      <td>derek</td>\n",
       "      <td>jklg*_56</td>\n",
       "      <td>1-956-001-1945</td>\n",
       "      <td>0</td>\n",
       "      <td>derek powell</td>\n",
       "      <td>san Antonio</td>\n",
       "      <td>245</td>\n",
       "      <td>adams St</td>\n",
       "      <td>80796-1234</td>\n",
       "      <td>40.3467</td>\n",
       "      <td>-40.1310</td>\n",
       "    </tr>\n",
       "    <tr>\n",
       "      <th>5</th>\n",
       "      <td>6</td>\n",
       "      <td>david_r@gmail.com</td>\n",
       "      <td>david_r</td>\n",
       "      <td>3478*#54</td>\n",
       "      <td>1-678-345-9856</td>\n",
       "      <td>0</td>\n",
       "      <td>david russell</td>\n",
       "      <td>el paso</td>\n",
       "      <td>124</td>\n",
       "      <td>prospect st</td>\n",
       "      <td>12346-0456</td>\n",
       "      <td>20.1677</td>\n",
       "      <td>-10.6789</td>\n",
       "    </tr>\n",
       "    <tr>\n",
       "      <th>6</th>\n",
       "      <td>7</td>\n",
       "      <td>miriam@gmail.com</td>\n",
       "      <td>snyder</td>\n",
       "      <td>f238&amp;@*$</td>\n",
       "      <td>1-123-943-0563</td>\n",
       "      <td>0</td>\n",
       "      <td>miriam snyder</td>\n",
       "      <td>fresno</td>\n",
       "      <td>1342</td>\n",
       "      <td>saddle st</td>\n",
       "      <td>96378-0245</td>\n",
       "      <td>10.3456</td>\n",
       "      <td>20.6419</td>\n",
       "    </tr>\n",
       "    <tr>\n",
       "      <th>7</th>\n",
       "      <td>8</td>\n",
       "      <td>william@gmail.com</td>\n",
       "      <td>hopkins</td>\n",
       "      <td>William56$hj</td>\n",
       "      <td>1-478-001-0890</td>\n",
       "      <td>0</td>\n",
       "      <td>william hopkins</td>\n",
       "      <td>mesa</td>\n",
       "      <td>1342</td>\n",
       "      <td>vally view ln</td>\n",
       "      <td>96378-0245</td>\n",
       "      <td>50.3456</td>\n",
       "      <td>10.6419</td>\n",
       "    </tr>\n",
       "    <tr>\n",
       "      <th>8</th>\n",
       "      <td>9</td>\n",
       "      <td>kate@gmail.com</td>\n",
       "      <td>kate_h</td>\n",
       "      <td>kfejk@*_</td>\n",
       "      <td>1-678-456-1934</td>\n",
       "      <td>0</td>\n",
       "      <td>kate hale</td>\n",
       "      <td>miami</td>\n",
       "      <td>345</td>\n",
       "      <td>avondale ave</td>\n",
       "      <td>96378-0245</td>\n",
       "      <td>40.12456</td>\n",
       "      <td>20.5419</td>\n",
       "    </tr>\n",
       "    <tr>\n",
       "      <th>9</th>\n",
       "      <td>10</td>\n",
       "      <td>jimmie@gmail.com</td>\n",
       "      <td>jimmie_k</td>\n",
       "      <td>klein*#%*</td>\n",
       "      <td>1-104-001-4567</td>\n",
       "      <td>0</td>\n",
       "      <td>jimmie klein</td>\n",
       "      <td>fort wayne</td>\n",
       "      <td>526</td>\n",
       "      <td>oak lawn ave</td>\n",
       "      <td>10256-4532</td>\n",
       "      <td>30.24788</td>\n",
       "      <td>-20.545419</td>\n",
       "    </tr>\n",
       "  </tbody>\n",
       "</table>\n",
       "</div>"
      ],
      "text/plain": [
       "   user_id               email   username      password           phone  __v  \\\n",
       "0        1      john@gmail.com      johnd       m38rmF$  1-570-236-7033    0   \n",
       "1        2  morrison@gmail.com   mor_2314        83r5^_  1-570-236-7033    0   \n",
       "2        3     kevin@gmail.com  kevinryan     kev02937@  1-567-094-1345    0   \n",
       "3        4       don@gmail.com     donero        ewedon  1-765-789-6734    0   \n",
       "4        5     derek@gmail.com      derek      jklg*_56  1-956-001-1945    0   \n",
       "5        6   david_r@gmail.com    david_r      3478*#54  1-678-345-9856    0   \n",
       "6        7    miriam@gmail.com     snyder      f238&@*$  1-123-943-0563    0   \n",
       "7        8   william@gmail.com    hopkins  William56$hj  1-478-001-0890    0   \n",
       "8        9      kate@gmail.com     kate_h      kfejk@*_  1-678-456-1934    0   \n",
       "9       10    jimmie@gmail.com   jimmie_k     klein*#%*  1-104-001-4567    0   \n",
       "\n",
       "         full_name         city  number            street    zip_code  \\\n",
       "0         john doe     kilcoole    7682          new road  12926-3874   \n",
       "1   david morrison     kilcoole    7267         Lovers Ln  12926-3874   \n",
       "2       kevin ryan      Cullman      86        Frances Ct  29567-1452   \n",
       "3        don romer  San Antonio    6454  Hunters Creek Dr  98234-1734   \n",
       "4     derek powell  san Antonio     245          adams St  80796-1234   \n",
       "5    david russell      el paso     124       prospect st  12346-0456   \n",
       "6    miriam snyder       fresno    1342         saddle st  96378-0245   \n",
       "7  william hopkins         mesa    1342     vally view ln  96378-0245   \n",
       "8        kate hale        miami     345      avondale ave  96378-0245   \n",
       "9     jimmie klein   fort wayne     526      oak lawn ave  10256-4532   \n",
       "\n",
       "  geolocation_lat geolocation_long  \n",
       "0        -37.3159          81.1496  \n",
       "1        -37.3159          81.1496  \n",
       "2         40.3467         -30.1310  \n",
       "3         50.3467         -20.1310  \n",
       "4         40.3467         -40.1310  \n",
       "5         20.1677         -10.6789  \n",
       "6         10.3456          20.6419  \n",
       "7         50.3456          10.6419  \n",
       "8        40.12456          20.5419  \n",
       "9        30.24788       -20.545419  "
      ]
     },
     "execution_count": 10,
     "metadata": {},
     "output_type": "execute_result"
    }
   ],
   "source": [
    "df_final"
   ]
  },
  {
   "cell_type": "code",
   "execution_count": 11,
   "metadata": {},
   "outputs": [],
   "source": [
    "# Deletando a coluna __v por não haver uso para a mesma\n",
    "df_final = df_final.drop('__v', axis=1)"
   ]
  },
  {
   "cell_type": "markdown",
   "metadata": {},
   "source": [
    "## Visualização dos dados nulos"
   ]
  },
  {
   "cell_type": "code",
   "execution_count": 12,
   "metadata": {},
   "outputs": [
    {
     "data": {
      "text/plain": [
       "user_id             0\n",
       "email               0\n",
       "username            0\n",
       "password            0\n",
       "phone               0\n",
       "full_name           0\n",
       "city                0\n",
       "number              0\n",
       "street              0\n",
       "zip_code            0\n",
       "geolocation_lat     0\n",
       "geolocation_long    0\n",
       "dtype: int64"
      ]
     },
     "execution_count": 12,
     "metadata": {},
     "output_type": "execute_result"
    }
   ],
   "source": [
    "# Soma de todos os valores nulos por coluna\n",
    "df_final.isnull().sum()"
   ]
  },
  {
   "cell_type": "markdown",
   "metadata": {},
   "source": [
    "No caso dessa base, não houve a presença de dados nulos"
   ]
  },
  {
   "cell_type": "markdown",
   "metadata": {},
   "source": [
    "## Conferência de duplicatas"
   ]
  },
  {
   "cell_type": "markdown",
   "metadata": {},
   "source": [
    "A verificação foi feita nas colunas necessarias, mas deixei apenas algumas listadas a baixo como exemplo."
   ]
  },
  {
   "cell_type": "markdown",
   "metadata": {},
   "source": [
    "Vale ressaltar que algumas colunas, como \"name\" e \"city\", terão valores repeditos, mas não necessariamente são duplicatas.\n",
    "Outro ponto como exemplo a se avaliar são as colunas de \"password\" e \"username\", que não devem seguir um padrão pois os valores podem ser aleatórios."
   ]
  },
  {
   "cell_type": "markdown",
   "metadata": {},
   "source": [
    "Exemplo disso é a coluna \"number\", que se refere a o número da residência do usuario. Ela possue dois numeros iguais, \"1342\", mas não necessariamente são duplicatas, pois os endereços são diferentes.\n",
    "O ideal sempre é investigar os casos individualmente"
   ]
  },
  {
   "cell_type": "markdown",
   "metadata": {},
   "source": [
    "### Coluna \"user_id\": zero duplicatas"
   ]
  },
  {
   "cell_type": "code",
   "execution_count": 14,
   "metadata": {},
   "outputs": [
    {
     "data": {
      "text/plain": [
       "0"
      ]
     },
     "execution_count": 14,
     "metadata": {},
     "output_type": "execute_result"
    }
   ],
   "source": [
    "# Contagem de duplicatas\n",
    "df_final['user_id'].duplicated().sum()"
   ]
  },
  {
   "cell_type": "markdown",
   "metadata": {},
   "source": [
    "### Coluna \"email\": zero duplicatas"
   ]
  },
  {
   "cell_type": "code",
   "execution_count": 15,
   "metadata": {},
   "outputs": [
    {
     "data": {
      "text/plain": [
       "0"
      ]
     },
     "execution_count": 15,
     "metadata": {},
     "output_type": "execute_result"
    }
   ],
   "source": [
    "df_final['email'].duplicated().sum()"
   ]
  },
  {
   "cell_type": "markdown",
   "metadata": {},
   "source": [
    "### Coluna \"phone\": uma duplicata"
   ]
  },
  {
   "cell_type": "code",
   "execution_count": null,
   "metadata": {},
   "outputs": [
    {
     "data": {
      "text/plain": [
       "1"
      ]
     },
     "execution_count": 16,
     "metadata": {},
     "output_type": "execute_result"
    }
   ],
   "source": [
    "df_final['phone'].duplicated().sum()"
   ]
  },
  {
   "cell_type": "code",
   "execution_count": null,
   "metadata": {},
   "outputs": [
    {
     "data": {
      "text/html": [
       "<div>\n",
       "<style scoped>\n",
       "    .dataframe tbody tr th:only-of-type {\n",
       "        vertical-align: middle;\n",
       "    }\n",
       "\n",
       "    .dataframe tbody tr th {\n",
       "        vertical-align: top;\n",
       "    }\n",
       "\n",
       "    .dataframe thead th {\n",
       "        text-align: right;\n",
       "    }\n",
       "</style>\n",
       "<table border=\"1\" class=\"dataframe\">\n",
       "  <thead>\n",
       "    <tr style=\"text-align: right;\">\n",
       "      <th></th>\n",
       "      <th>user_id</th>\n",
       "      <th>email</th>\n",
       "      <th>username</th>\n",
       "      <th>password</th>\n",
       "      <th>phone</th>\n",
       "      <th>full_name</th>\n",
       "      <th>city</th>\n",
       "      <th>number</th>\n",
       "      <th>street</th>\n",
       "      <th>zip_code</th>\n",
       "      <th>geolocation_lat</th>\n",
       "      <th>geolocation_long</th>\n",
       "    </tr>\n",
       "  </thead>\n",
       "  <tbody>\n",
       "    <tr>\n",
       "      <th>1</th>\n",
       "      <td>2</td>\n",
       "      <td>morrison@gmail.com</td>\n",
       "      <td>mor_2314</td>\n",
       "      <td>83r5^_</td>\n",
       "      <td>1-570-236-7033</td>\n",
       "      <td>david morrison</td>\n",
       "      <td>kilcoole</td>\n",
       "      <td>7267</td>\n",
       "      <td>Lovers Ln</td>\n",
       "      <td>12926-3874</td>\n",
       "      <td>-37.3159</td>\n",
       "      <td>81.1496</td>\n",
       "    </tr>\n",
       "  </tbody>\n",
       "</table>\n",
       "</div>"
      ],
      "text/plain": [
       "   user_id               email  username password           phone  \\\n",
       "1        2  morrison@gmail.com  mor_2314   83r5^_  1-570-236-7033   \n",
       "\n",
       "        full_name      city  number     street    zip_code geolocation_lat  \\\n",
       "1  david morrison  kilcoole    7267  Lovers Ln  12926-3874        -37.3159   \n",
       "\n",
       "  geolocation_long  \n",
       "1          81.1496  "
      ]
     },
     "execution_count": 17,
     "metadata": {},
     "output_type": "execute_result"
    }
   ],
   "source": [
    "# Verificação duplicatas com base em uma ou mais colunas\n",
    "df_final[df_final.duplicated(['phone'])]"
   ]
  },
  {
   "cell_type": "code",
   "execution_count": null,
   "metadata": {},
   "outputs": [
    {
     "data": {
      "text/html": [
       "<div>\n",
       "<style scoped>\n",
       "    .dataframe tbody tr th:only-of-type {\n",
       "        vertical-align: middle;\n",
       "    }\n",
       "\n",
       "    .dataframe tbody tr th {\n",
       "        vertical-align: top;\n",
       "    }\n",
       "\n",
       "    .dataframe thead th {\n",
       "        text-align: right;\n",
       "    }\n",
       "</style>\n",
       "<table border=\"1\" class=\"dataframe\">\n",
       "  <thead>\n",
       "    <tr style=\"text-align: right;\">\n",
       "      <th></th>\n",
       "      <th>user_id</th>\n",
       "      <th>email</th>\n",
       "      <th>username</th>\n",
       "      <th>password</th>\n",
       "      <th>phone</th>\n",
       "      <th>full_name</th>\n",
       "      <th>city</th>\n",
       "      <th>number</th>\n",
       "      <th>street</th>\n",
       "      <th>zip_code</th>\n",
       "      <th>geolocation_lat</th>\n",
       "      <th>geolocation_long</th>\n",
       "    </tr>\n",
       "  </thead>\n",
       "  <tbody>\n",
       "    <tr>\n",
       "      <th>0</th>\n",
       "      <td>1</td>\n",
       "      <td>john@gmail.com</td>\n",
       "      <td>johnd</td>\n",
       "      <td>m38rmF$</td>\n",
       "      <td>1-570-236-7033</td>\n",
       "      <td>john doe</td>\n",
       "      <td>kilcoole</td>\n",
       "      <td>7682</td>\n",
       "      <td>new road</td>\n",
       "      <td>12926-3874</td>\n",
       "      <td>-37.3159</td>\n",
       "      <td>81.1496</td>\n",
       "    </tr>\n",
       "    <tr>\n",
       "      <th>1</th>\n",
       "      <td>2</td>\n",
       "      <td>morrison@gmail.com</td>\n",
       "      <td>mor_2314</td>\n",
       "      <td>83r5^_</td>\n",
       "      <td>1-570-236-7033</td>\n",
       "      <td>david morrison</td>\n",
       "      <td>kilcoole</td>\n",
       "      <td>7267</td>\n",
       "      <td>lovers ln</td>\n",
       "      <td>12926-3874</td>\n",
       "      <td>-37.3159</td>\n",
       "      <td>81.1496</td>\n",
       "    </tr>\n",
       "  </tbody>\n",
       "</table>\n",
       "</div>"
      ],
      "text/plain": [
       "   user_id               email  username password           phone  \\\n",
       "0        1      john@gmail.com     johnd  m38rmF$  1-570-236-7033   \n",
       "1        2  morrison@gmail.com  mor_2314   83r5^_  1-570-236-7033   \n",
       "\n",
       "        full_name      city  number     street    zip_code geolocation_lat  \\\n",
       "0        john doe  kilcoole    7682   new road  12926-3874        -37.3159   \n",
       "1  david morrison  kilcoole    7267  lovers ln  12926-3874        -37.3159   \n",
       "\n",
       "  geolocation_long  \n",
       "0          81.1496  \n",
       "1          81.1496  "
      ]
     },
     "execution_count": 34,
     "metadata": {},
     "output_type": "execute_result"
    }
   ],
   "source": [
    "# Verificação duplicatas com base um valor\n",
    "df_final[df_final['phone'] == '1-570-236-7033']"
   ]
  },
  {
   "cell_type": "markdown",
   "metadata": {},
   "source": [
    "Pode haver a possibilidade de duas contas possuírem o mesmo número de telefone. É o caso do número \"1-570-236-7033\", onde dois usuários na base de dados possuem esse mesmo número. Além disso, algumas informações são semelhantes, como cidade, código postal e geolocalização, enquanto o número da casa e a rua diferem. Essa situação abre margem para investigação sobre se esses usuários são parentes, por morarem próximos, ou se alguém usou o número indevidamente, seja com má intenção ou de forma errônea. No entanto, aplicando uma regra de negócio que permita apenas um número por usuário, esse tipo de situação poderia ser evitado ou um possível erro identificado."
   ]
  },
  {
   "cell_type": "markdown",
   "metadata": {},
   "source": [
    "## Conferêcia de padrão nos valores"
   ]
  },
  {
   "cell_type": "markdown",
   "metadata": {},
   "source": [
    "A verificação foi feita nas colunas necessarias, mas deixei apenas essas listadas a baixo como exemplo."
   ]
  },
  {
   "cell_type": "markdown",
   "metadata": {},
   "source": [
    "### Coluna \"email\": nada de anormal"
   ]
  },
  {
   "cell_type": "code",
   "execution_count": 35,
   "metadata": {},
   "outputs": [
    {
     "data": {
      "text/plain": [
       "array(['john@gmail.com', 'morrison@gmail.com', 'kevin@gmail.com',\n",
       "       'don@gmail.com', 'derek@gmail.com', 'david_r@gmail.com',\n",
       "       'miriam@gmail.com', 'william@gmail.com', 'kate@gmail.com',\n",
       "       'jimmie@gmail.com'], dtype=object)"
      ]
     },
     "execution_count": 35,
     "metadata": {},
     "output_type": "execute_result"
    }
   ],
   "source": [
    "df_final['email'].unique()"
   ]
  },
  {
   "cell_type": "markdown",
   "metadata": {},
   "source": [
    "### Coluna \"phone\": nada de anormal"
   ]
  },
  {
   "cell_type": "code",
   "execution_count": 23,
   "metadata": {},
   "outputs": [
    {
     "data": {
      "text/plain": [
       "array(['1-570-236-7033', '1-567-094-1345', '1-765-789-6734',\n",
       "       '1-956-001-1945', '1-678-345-9856', '1-123-943-0563',\n",
       "       '1-478-001-0890', '1-678-456-1934', '1-104-001-4567'], dtype=object)"
      ]
     },
     "execution_count": 23,
     "metadata": {},
     "output_type": "execute_result"
    }
   ],
   "source": [
    "df_final['phone'].unique()"
   ]
  },
  {
   "cell_type": "markdown",
   "metadata": {},
   "source": [
    "### Coluna \"city\": Despadronização no valor \"San Antonio\" e espaços entre os nomes"
   ]
  },
  {
   "cell_type": "code",
   "execution_count": 24,
   "metadata": {},
   "outputs": [
    {
     "data": {
      "text/plain": [
       "array(['kilcoole', 'Cullman', 'San Antonio', 'san Antonio', 'el paso',\n",
       "       'fresno', 'mesa', 'miami', 'fort wayne'], dtype=object)"
      ]
     },
     "execution_count": 24,
     "metadata": {},
     "output_type": "execute_result"
    }
   ],
   "source": [
    "df_final['city'].unique()"
   ]
  },
  {
   "cell_type": "markdown",
   "metadata": {},
   "source": [
    "### Coluna \"street\": Despadronização das iniciais e espaços entre os nomes"
   ]
  },
  {
   "cell_type": "code",
   "execution_count": 25,
   "metadata": {},
   "outputs": [
    {
     "data": {
      "text/plain": [
       "array(['new road', 'Lovers Ln', 'Frances Ct', 'Hunters Creek Dr',\n",
       "       'adams St', 'prospect st', 'saddle st', 'vally view ln',\n",
       "       'avondale ave', 'oak lawn ave'], dtype=object)"
      ]
     },
     "execution_count": 25,
     "metadata": {},
     "output_type": "execute_result"
    }
   ],
   "source": [
    "df_final['street'].unique()"
   ]
  },
  {
   "cell_type": "markdown",
   "metadata": {},
   "source": [
    "### Coluna \"full_name\": nada de anormal"
   ]
  },
  {
   "cell_type": "code",
   "execution_count": 27,
   "metadata": {},
   "outputs": [
    {
     "data": {
      "text/plain": [
       "array(['john doe', 'david morrison', 'kevin ryan', 'don romer',\n",
       "       'derek powell', 'david russell', 'miriam snyder',\n",
       "       'william hopkins', 'kate hale', 'jimmie klein'], dtype=object)"
      ]
     },
     "execution_count": 27,
     "metadata": {},
     "output_type": "execute_result"
    }
   ],
   "source": [
    "df_final['full_name'].unique()"
   ]
  },
  {
   "cell_type": "markdown",
   "metadata": {},
   "source": [
    "### Padronização de valores e substituição dos espaços"
   ]
  },
  {
   "cell_type": "code",
   "execution_count": 28,
   "metadata": {},
   "outputs": [],
   "source": [
    "# str.lower(): converte todo texto para minúsculo\n",
    "# str.replace(' ', '_'): substitui espaços por valores escolhidos\n",
    "\n",
    "df_final['city'] = df_final['city'].str.lower()\n",
    "df_final['street'] = df_final['street'].str.lower()"
   ]
  },
  {
   "cell_type": "markdown",
   "metadata": {},
   "source": [
    "### Conferência dos resultados"
   ]
  },
  {
   "cell_type": "code",
   "execution_count": 29,
   "metadata": {},
   "outputs": [
    {
     "data": {
      "text/plain": [
       "array(['new road', 'lovers ln', 'frances ct', 'hunters creek dr',\n",
       "       'adams st', 'prospect st', 'saddle st', 'vally view ln',\n",
       "       'avondale ave', 'oak lawn ave'], dtype=object)"
      ]
     },
     "execution_count": 29,
     "metadata": {},
     "output_type": "execute_result"
    }
   ],
   "source": [
    "df_final['street'].unique()"
   ]
  },
  {
   "cell_type": "code",
   "execution_count": 30,
   "metadata": {},
   "outputs": [
    {
     "data": {
      "text/plain": [
       "array(['kilcoole', 'cullman', 'san antonio', 'el paso', 'fresno', 'mesa',\n",
       "       'miami', 'fort wayne'], dtype=object)"
      ]
     },
     "execution_count": 30,
     "metadata": {},
     "output_type": "execute_result"
    }
   ],
   "source": [
    "df_final['city'].unique()"
   ]
  },
  {
   "cell_type": "markdown",
   "metadata": {},
   "source": [
    "### Dataframe com as mudanças aplicadas"
   ]
  },
  {
   "cell_type": "code",
   "execution_count": 31,
   "metadata": {},
   "outputs": [
    {
     "data": {
      "text/html": [
       "<div>\n",
       "<style scoped>\n",
       "    .dataframe tbody tr th:only-of-type {\n",
       "        vertical-align: middle;\n",
       "    }\n",
       "\n",
       "    .dataframe tbody tr th {\n",
       "        vertical-align: top;\n",
       "    }\n",
       "\n",
       "    .dataframe thead th {\n",
       "        text-align: right;\n",
       "    }\n",
       "</style>\n",
       "<table border=\"1\" class=\"dataframe\">\n",
       "  <thead>\n",
       "    <tr style=\"text-align: right;\">\n",
       "      <th></th>\n",
       "      <th>user_id</th>\n",
       "      <th>email</th>\n",
       "      <th>username</th>\n",
       "      <th>password</th>\n",
       "      <th>phone</th>\n",
       "      <th>full_name</th>\n",
       "      <th>city</th>\n",
       "      <th>number</th>\n",
       "      <th>street</th>\n",
       "      <th>zip_code</th>\n",
       "      <th>geolocation_lat</th>\n",
       "      <th>geolocation_long</th>\n",
       "    </tr>\n",
       "  </thead>\n",
       "  <tbody>\n",
       "    <tr>\n",
       "      <th>0</th>\n",
       "      <td>1</td>\n",
       "      <td>john@gmail.com</td>\n",
       "      <td>johnd</td>\n",
       "      <td>m38rmF$</td>\n",
       "      <td>1-570-236-7033</td>\n",
       "      <td>john doe</td>\n",
       "      <td>kilcoole</td>\n",
       "      <td>7682</td>\n",
       "      <td>new road</td>\n",
       "      <td>12926-3874</td>\n",
       "      <td>-37.3159</td>\n",
       "      <td>81.1496</td>\n",
       "    </tr>\n",
       "    <tr>\n",
       "      <th>1</th>\n",
       "      <td>2</td>\n",
       "      <td>morrison@gmail.com</td>\n",
       "      <td>mor_2314</td>\n",
       "      <td>83r5^_</td>\n",
       "      <td>1-570-236-7033</td>\n",
       "      <td>david morrison</td>\n",
       "      <td>kilcoole</td>\n",
       "      <td>7267</td>\n",
       "      <td>lovers ln</td>\n",
       "      <td>12926-3874</td>\n",
       "      <td>-37.3159</td>\n",
       "      <td>81.1496</td>\n",
       "    </tr>\n",
       "    <tr>\n",
       "      <th>2</th>\n",
       "      <td>3</td>\n",
       "      <td>kevin@gmail.com</td>\n",
       "      <td>kevinryan</td>\n",
       "      <td>kev02937@</td>\n",
       "      <td>1-567-094-1345</td>\n",
       "      <td>kevin ryan</td>\n",
       "      <td>cullman</td>\n",
       "      <td>86</td>\n",
       "      <td>frances ct</td>\n",
       "      <td>29567-1452</td>\n",
       "      <td>40.3467</td>\n",
       "      <td>-30.1310</td>\n",
       "    </tr>\n",
       "    <tr>\n",
       "      <th>3</th>\n",
       "      <td>4</td>\n",
       "      <td>don@gmail.com</td>\n",
       "      <td>donero</td>\n",
       "      <td>ewedon</td>\n",
       "      <td>1-765-789-6734</td>\n",
       "      <td>don romer</td>\n",
       "      <td>san antonio</td>\n",
       "      <td>6454</td>\n",
       "      <td>hunters creek dr</td>\n",
       "      <td>98234-1734</td>\n",
       "      <td>50.3467</td>\n",
       "      <td>-20.1310</td>\n",
       "    </tr>\n",
       "    <tr>\n",
       "      <th>4</th>\n",
       "      <td>5</td>\n",
       "      <td>derek@gmail.com</td>\n",
       "      <td>derek</td>\n",
       "      <td>jklg*_56</td>\n",
       "      <td>1-956-001-1945</td>\n",
       "      <td>derek powell</td>\n",
       "      <td>san antonio</td>\n",
       "      <td>245</td>\n",
       "      <td>adams st</td>\n",
       "      <td>80796-1234</td>\n",
       "      <td>40.3467</td>\n",
       "      <td>-40.1310</td>\n",
       "    </tr>\n",
       "    <tr>\n",
       "      <th>5</th>\n",
       "      <td>6</td>\n",
       "      <td>david_r@gmail.com</td>\n",
       "      <td>david_r</td>\n",
       "      <td>3478*#54</td>\n",
       "      <td>1-678-345-9856</td>\n",
       "      <td>david russell</td>\n",
       "      <td>el paso</td>\n",
       "      <td>124</td>\n",
       "      <td>prospect st</td>\n",
       "      <td>12346-0456</td>\n",
       "      <td>20.1677</td>\n",
       "      <td>-10.6789</td>\n",
       "    </tr>\n",
       "    <tr>\n",
       "      <th>6</th>\n",
       "      <td>7</td>\n",
       "      <td>miriam@gmail.com</td>\n",
       "      <td>snyder</td>\n",
       "      <td>f238&amp;@*$</td>\n",
       "      <td>1-123-943-0563</td>\n",
       "      <td>miriam snyder</td>\n",
       "      <td>fresno</td>\n",
       "      <td>1342</td>\n",
       "      <td>saddle st</td>\n",
       "      <td>96378-0245</td>\n",
       "      <td>10.3456</td>\n",
       "      <td>20.6419</td>\n",
       "    </tr>\n",
       "    <tr>\n",
       "      <th>7</th>\n",
       "      <td>8</td>\n",
       "      <td>william@gmail.com</td>\n",
       "      <td>hopkins</td>\n",
       "      <td>William56$hj</td>\n",
       "      <td>1-478-001-0890</td>\n",
       "      <td>william hopkins</td>\n",
       "      <td>mesa</td>\n",
       "      <td>1342</td>\n",
       "      <td>vally view ln</td>\n",
       "      <td>96378-0245</td>\n",
       "      <td>50.3456</td>\n",
       "      <td>10.6419</td>\n",
       "    </tr>\n",
       "    <tr>\n",
       "      <th>8</th>\n",
       "      <td>9</td>\n",
       "      <td>kate@gmail.com</td>\n",
       "      <td>kate_h</td>\n",
       "      <td>kfejk@*_</td>\n",
       "      <td>1-678-456-1934</td>\n",
       "      <td>kate hale</td>\n",
       "      <td>miami</td>\n",
       "      <td>345</td>\n",
       "      <td>avondale ave</td>\n",
       "      <td>96378-0245</td>\n",
       "      <td>40.12456</td>\n",
       "      <td>20.5419</td>\n",
       "    </tr>\n",
       "    <tr>\n",
       "      <th>9</th>\n",
       "      <td>10</td>\n",
       "      <td>jimmie@gmail.com</td>\n",
       "      <td>jimmie_k</td>\n",
       "      <td>klein*#%*</td>\n",
       "      <td>1-104-001-4567</td>\n",
       "      <td>jimmie klein</td>\n",
       "      <td>fort wayne</td>\n",
       "      <td>526</td>\n",
       "      <td>oak lawn ave</td>\n",
       "      <td>10256-4532</td>\n",
       "      <td>30.24788</td>\n",
       "      <td>-20.545419</td>\n",
       "    </tr>\n",
       "  </tbody>\n",
       "</table>\n",
       "</div>"
      ],
      "text/plain": [
       "   user_id               email   username      password           phone  \\\n",
       "0        1      john@gmail.com      johnd       m38rmF$  1-570-236-7033   \n",
       "1        2  morrison@gmail.com   mor_2314        83r5^_  1-570-236-7033   \n",
       "2        3     kevin@gmail.com  kevinryan     kev02937@  1-567-094-1345   \n",
       "3        4       don@gmail.com     donero        ewedon  1-765-789-6734   \n",
       "4        5     derek@gmail.com      derek      jklg*_56  1-956-001-1945   \n",
       "5        6   david_r@gmail.com    david_r      3478*#54  1-678-345-9856   \n",
       "6        7    miriam@gmail.com     snyder      f238&@*$  1-123-943-0563   \n",
       "7        8   william@gmail.com    hopkins  William56$hj  1-478-001-0890   \n",
       "8        9      kate@gmail.com     kate_h      kfejk@*_  1-678-456-1934   \n",
       "9       10    jimmie@gmail.com   jimmie_k     klein*#%*  1-104-001-4567   \n",
       "\n",
       "         full_name         city  number            street    zip_code  \\\n",
       "0         john doe     kilcoole    7682          new road  12926-3874   \n",
       "1   david morrison     kilcoole    7267         lovers ln  12926-3874   \n",
       "2       kevin ryan      cullman      86        frances ct  29567-1452   \n",
       "3        don romer  san antonio    6454  hunters creek dr  98234-1734   \n",
       "4     derek powell  san antonio     245          adams st  80796-1234   \n",
       "5    david russell      el paso     124       prospect st  12346-0456   \n",
       "6    miriam snyder       fresno    1342         saddle st  96378-0245   \n",
       "7  william hopkins         mesa    1342     vally view ln  96378-0245   \n",
       "8        kate hale        miami     345      avondale ave  96378-0245   \n",
       "9     jimmie klein   fort wayne     526      oak lawn ave  10256-4532   \n",
       "\n",
       "  geolocation_lat geolocation_long  \n",
       "0        -37.3159          81.1496  \n",
       "1        -37.3159          81.1496  \n",
       "2         40.3467         -30.1310  \n",
       "3         50.3467         -20.1310  \n",
       "4         40.3467         -40.1310  \n",
       "5         20.1677         -10.6789  \n",
       "6         10.3456          20.6419  \n",
       "7         50.3456          10.6419  \n",
       "8        40.12456          20.5419  \n",
       "9        30.24788       -20.545419  "
      ]
     },
     "execution_count": 31,
     "metadata": {},
     "output_type": "execute_result"
    }
   ],
   "source": [
    "df_final"
   ]
  },
  {
   "cell_type": "markdown",
   "metadata": {},
   "source": [
    "## Salvando na camada prata"
   ]
  },
  {
   "cell_type": "code",
   "execution_count": 32,
   "metadata": {},
   "outputs": [],
   "source": [
    "df_final.to_parquet('C:/Users/candi/OneDrive/Documentos/GitHub/case_enjoei/datasets/silver/users.parquet', index=False)"
   ]
  },
  {
   "cell_type": "markdown",
   "metadata": {},
   "source": []
  }
 ],
 "metadata": {
  "kernelspec": {
   "display_name": "Python 3",
   "language": "python",
   "name": "python3"
  },
  "language_info": {
   "codemirror_mode": {
    "name": "ipython",
    "version": 3
   },
   "file_extension": ".py",
   "mimetype": "text/x-python",
   "name": "python",
   "nbconvert_exporter": "python",
   "pygments_lexer": "ipython3",
   "version": "3.12.2"
  }
 },
 "nbformat": 4,
 "nbformat_minor": 2
}
