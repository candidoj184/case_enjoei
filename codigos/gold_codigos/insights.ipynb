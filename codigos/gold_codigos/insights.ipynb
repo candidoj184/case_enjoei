{
 "cells": [
  {
   "cell_type": "markdown",
   "metadata": {},
   "source": [
    "## Imports"
   ]
  },
  {
   "cell_type": "code",
   "execution_count": 9,
   "metadata": {},
   "outputs": [],
   "source": [
    "import pandas as pd"
   ]
  },
  {
   "cell_type": "markdown",
   "metadata": {},
   "source": [
    "## Leitura das bases da camada silver"
   ]
  },
  {
   "cell_type": "code",
   "execution_count": 10,
   "metadata": {},
   "outputs": [],
   "source": [
    "df_insights = pd.read_parquet('C:/Users/candi/OneDrive/Documentos/GitHub/case_enjoei/datasets/gold/dataset_gold.parquet')"
   ]
  },
  {
   "cell_type": "markdown",
   "metadata": {},
   "source": [
    "## Informações solicitadas pelo négocio"
   ]
  },
  {
   "cell_type": "code",
   "execution_count": 11,
   "metadata": {},
   "outputs": [],
   "source": [
    "# Agrupamento por usuário e categoria + soma das quantidades de produtos por categoria\n",
    "category_totals = df_insights.groupby(['user_id', 'category'])['quantity'].sum().reset_index()\n",
    "\n",
    "# Encontrando a categoria mais adicionada pelo usuário no carrinho\n",
    "most_category = category_totals.loc[category_totals.groupby('user_id')['quantity'].idxmax()]"
   ]
  },
  {
   "cell_type": "code",
   "execution_count": 12,
   "metadata": {},
   "outputs": [],
   "source": [
    "# Última data de adição ao carrinho por usuário\n",
    "last_date_add = df_insights.groupby('user_id')['date'].max().reset_index()\n",
    "\n",
    "# Merge para incorporar a última data ao dataframe\n",
    "most_category = most_category.merge(last_date_add, on='user_id')"
   ]
  },
  {
   "cell_type": "code",
   "execution_count": 13,
   "metadata": {},
   "outputs": [
    {
     "data": {
      "text/html": [
       "<div>\n",
       "<style scoped>\n",
       "    .dataframe tbody tr th:only-of-type {\n",
       "        vertical-align: middle;\n",
       "    }\n",
       "\n",
       "    .dataframe tbody tr th {\n",
       "        vertical-align: top;\n",
       "    }\n",
       "\n",
       "    .dataframe thead th {\n",
       "        text-align: right;\n",
       "    }\n",
       "</style>\n",
       "<table border=\"1\" class=\"dataframe\">\n",
       "  <thead>\n",
       "    <tr style=\"text-align: right;\">\n",
       "      <th></th>\n",
       "      <th>user_id</th>\n",
       "      <th>full_name</th>\n",
       "      <th>date</th>\n",
       "      <th>category</th>\n",
       "      <th>quantity</th>\n",
       "    </tr>\n",
       "  </thead>\n",
       "  <tbody>\n",
       "    <tr>\n",
       "      <th>0</th>\n",
       "      <td>1</td>\n",
       "      <td>john doe</td>\n",
       "      <td>2020-03-02</td>\n",
       "      <td>men's clothing</td>\n",
       "      <td>25</td>\n",
       "    </tr>\n",
       "    <tr>\n",
       "      <th>6</th>\n",
       "      <td>2</td>\n",
       "      <td>david morrison</td>\n",
       "      <td>2020-03-01</td>\n",
       "      <td>men's clothing</td>\n",
       "      <td>2</td>\n",
       "    </tr>\n",
       "    <tr>\n",
       "      <th>8</th>\n",
       "      <td>3</td>\n",
       "      <td>kevin ryan</td>\n",
       "      <td>2020-03-01</td>\n",
       "      <td>men's clothing</td>\n",
       "      <td>4</td>\n",
       "    </tr>\n",
       "    <tr>\n",
       "      <th>11</th>\n",
       "      <td>4</td>\n",
       "      <td>don romer</td>\n",
       "      <td>2020-03-01</td>\n",
       "      <td>electronics</td>\n",
       "      <td>5</td>\n",
       "    </tr>\n",
       "    <tr>\n",
       "      <th>13</th>\n",
       "      <td>8</td>\n",
       "      <td>william hopkins</td>\n",
       "      <td>2020-03-01</td>\n",
       "      <td>women's clothing</td>\n",
       "      <td>1</td>\n",
       "    </tr>\n",
       "  </tbody>\n",
       "</table>\n",
       "</div>"
      ],
      "text/plain": [
       "    user_id        full_name        date          category  quantity\n",
       "0         1         john doe  2020-03-02    men's clothing        25\n",
       "6         2   david morrison  2020-03-01    men's clothing         2\n",
       "8         3       kevin ryan  2020-03-01    men's clothing         4\n",
       "11        4        don romer  2020-03-01       electronics         5\n",
       "13        8  william hopkins  2020-03-01  women's clothing         1"
      ]
     },
     "execution_count": 13,
     "metadata": {},
     "output_type": "execute_result"
    }
   ],
   "source": [
    "# Fazendo o merge para incorporar a coluna 'name' ao DataFrame\n",
    "merge = most_category.merge(df_insights[['user_id', 'full_name']], on='user_id')\n",
    "\n",
    "# Reorganizando as colunas para que 'full_name' venha após 'user_id'\n",
    "insight = merge[['user_id', 'full_name', 'date', 'category', 'quantity']]\n",
    "\n",
    "insight = insight.drop_duplicates()\n",
    "insight"
   ]
  },
  {
   "cell_type": "code",
   "execution_count": null,
   "metadata": {},
   "outputs": [],
   "source": [
    "insight.to_csv('C:/Users/candi/OneDrive/Documentos/GitHub/case_enjoei/datasets/gold/insights.csv', index=False)"
   ]
  },
  {
   "cell_type": "markdown",
   "metadata": {},
   "source": [
    "## Insights adicionais"
   ]
  },
  {
   "cell_type": "markdown",
   "metadata": {},
   "source": [
    "### Top usuário por com mais itens por categoria"
   ]
  },
  {
   "cell_type": "code",
   "execution_count": null,
   "metadata": {},
   "outputs": [
    {
     "data": {
      "text/html": [
       "<div>\n",
       "<style scoped>\n",
       "    .dataframe tbody tr th:only-of-type {\n",
       "        vertical-align: middle;\n",
       "    }\n",
       "\n",
       "    .dataframe tbody tr th {\n",
       "        vertical-align: top;\n",
       "    }\n",
       "\n",
       "    .dataframe thead th {\n",
       "        text-align: right;\n",
       "    }\n",
       "</style>\n",
       "<table border=\"1\" class=\"dataframe\">\n",
       "  <thead>\n",
       "    <tr style=\"text-align: right;\">\n",
       "      <th></th>\n",
       "      <th>user_id</th>\n",
       "      <th>full_name</th>\n",
       "      <th>category</th>\n",
       "      <th>quantity</th>\n",
       "    </tr>\n",
       "  </thead>\n",
       "  <tbody>\n",
       "    <tr>\n",
       "      <th>1</th>\n",
       "      <td>4</td>\n",
       "      <td>don romer</td>\n",
       "      <td>electronics</td>\n",
       "      <td>5</td>\n",
       "    </tr>\n",
       "    <tr>\n",
       "      <th>2</th>\n",
       "      <td>1</td>\n",
       "      <td>john doe</td>\n",
       "      <td>jewelery</td>\n",
       "      <td>2</td>\n",
       "    </tr>\n",
       "    <tr>\n",
       "      <th>4</th>\n",
       "      <td>1</td>\n",
       "      <td>john doe</td>\n",
       "      <td>men's clothing</td>\n",
       "      <td>25</td>\n",
       "    </tr>\n",
       "    <tr>\n",
       "      <th>7</th>\n",
       "      <td>8</td>\n",
       "      <td>william hopkins</td>\n",
       "      <td>women's clothing</td>\n",
       "      <td>1</td>\n",
       "    </tr>\n",
       "  </tbody>\n",
       "</table>\n",
       "</div>"
      ],
      "text/plain": [
       "   user_id        full_name          category  quantity\n",
       "1        4        don romer       electronics         5\n",
       "2        1         john doe          jewelery         2\n",
       "4        1         john doe    men's clothing        25\n",
       "7        8  william hopkins  women's clothing         1"
      ]
     },
     "execution_count": 14,
     "metadata": {},
     "output_type": "execute_result"
    }
   ],
   "source": [
    "# Agrupamento por 'category' e 'user_id' e soma da quantidade de produtos para cada usuário dentro de cada categoria\n",
    "top_category_buyers = df_insights.groupby(['category', 'user_id', 'full_name'], as_index=False)['quantity'].sum()\n",
    "\n",
    "\n",
    "# Para cada categoria, é selecionado o usuário com a maior quantidade de produtos\n",
    "top_buyers_per_category = top_category_buyers.loc[top_category_buyers.groupby('category')['quantity'].idxmax()]\n",
    "\n",
    "# Reorganização das colunas\n",
    "top_buyers_per_category = top_buyers_per_category[['user_id', 'full_name', 'category', 'quantity']]\n",
    "\n",
    "\n",
    "top_buyers_per_category"
   ]
  },
  {
   "cell_type": "markdown",
   "metadata": {},
   "source": [
    "### Ordem decrescente de itens no carrinho por úsuario"
   ]
  },
  {
   "cell_type": "code",
   "execution_count": 15,
   "metadata": {},
   "outputs": [
    {
     "data": {
      "text/html": [
       "<div>\n",
       "<style scoped>\n",
       "    .dataframe tbody tr th:only-of-type {\n",
       "        vertical-align: middle;\n",
       "    }\n",
       "\n",
       "    .dataframe tbody tr th {\n",
       "        vertical-align: top;\n",
       "    }\n",
       "\n",
       "    .dataframe thead th {\n",
       "        text-align: right;\n",
       "    }\n",
       "</style>\n",
       "<table border=\"1\" class=\"dataframe\">\n",
       "  <thead>\n",
       "    <tr style=\"text-align: right;\">\n",
       "      <th></th>\n",
       "      <th>user_id</th>\n",
       "      <th>full_name</th>\n",
       "      <th>quantity</th>\n",
       "    </tr>\n",
       "  </thead>\n",
       "  <tbody>\n",
       "    <tr>\n",
       "      <th>0</th>\n",
       "      <td>1</td>\n",
       "      <td>john doe</td>\n",
       "      <td>27</td>\n",
       "    </tr>\n",
       "    <tr>\n",
       "      <th>1</th>\n",
       "      <td>3</td>\n",
       "      <td>kevin ryan</td>\n",
       "      <td>6</td>\n",
       "    </tr>\n",
       "    <tr>\n",
       "      <th>2</th>\n",
       "      <td>4</td>\n",
       "      <td>don romer</td>\n",
       "      <td>5</td>\n",
       "    </tr>\n",
       "    <tr>\n",
       "      <th>3</th>\n",
       "      <td>2</td>\n",
       "      <td>david morrison</td>\n",
       "      <td>3</td>\n",
       "    </tr>\n",
       "    <tr>\n",
       "      <th>4</th>\n",
       "      <td>8</td>\n",
       "      <td>william hopkins</td>\n",
       "      <td>1</td>\n",
       "    </tr>\n",
       "  </tbody>\n",
       "</table>\n",
       "</div>"
      ],
      "text/plain": [
       "   user_id        full_name  quantity\n",
       "0        1         john doe        27\n",
       "1        3       kevin ryan         6\n",
       "2        4        don romer         5\n",
       "3        2   david morrison         3\n",
       "4        8  william hopkins         1"
      ]
     },
     "execution_count": 15,
     "metadata": {},
     "output_type": "execute_result"
    }
   ],
   "source": [
    "# Agrupamento por 'user_id' e soma da quantidade total de itens no carrinho para cada usuário\n",
    "user_cart_totals = df_insights.groupby(['user_id', 'full_name'], as_index=False)['quantity'].sum()\n",
    "\n",
    "# Ordem dos usuários pelo total de itens no carrinho em ordem decrescente\n",
    "user_cart_totals = user_cart_totals.sort_values(by='quantity', ascending=False).reset_index(drop=True)\n",
    "\n",
    "user_cart_totals"
   ]
  },
  {
   "cell_type": "markdown",
   "metadata": {},
   "source": [
    "### Produto mais caro por categoria"
   ]
  },
  {
   "cell_type": "code",
   "execution_count": 16,
   "metadata": {},
   "outputs": [
    {
     "data": {
      "text/html": [
       "<div>\n",
       "<style scoped>\n",
       "    .dataframe tbody tr th:only-of-type {\n",
       "        vertical-align: middle;\n",
       "    }\n",
       "\n",
       "    .dataframe tbody tr th {\n",
       "        vertical-align: top;\n",
       "    }\n",
       "\n",
       "    .dataframe thead th {\n",
       "        text-align: right;\n",
       "    }\n",
       "</style>\n",
       "<table border=\"1\" class=\"dataframe\">\n",
       "  <thead>\n",
       "    <tr style=\"text-align: right;\">\n",
       "      <th></th>\n",
       "      <th>category</th>\n",
       "      <th>product_id</th>\n",
       "      <th>title</th>\n",
       "      <th>price</th>\n",
       "      <th>description</th>\n",
       "    </tr>\n",
       "  </thead>\n",
       "  <tbody>\n",
       "    <tr>\n",
       "      <th>12</th>\n",
       "      <td>electronics</td>\n",
       "      <td>12</td>\n",
       "      <td>WD 4TB Gaming Drive Works with Playstation 4 P...</td>\n",
       "      <td>114.00</td>\n",
       "      <td>Expand your PS4 gaming experience, Play anywhe...</td>\n",
       "    </tr>\n",
       "    <tr>\n",
       "      <th>5</th>\n",
       "      <td>jewelery</td>\n",
       "      <td>5</td>\n",
       "      <td>John Hardy Women's Legends Naga Gold &amp; Silver ...</td>\n",
       "      <td>695.00</td>\n",
       "      <td>From our Legends Collection, the Naga was insp...</td>\n",
       "    </tr>\n",
       "    <tr>\n",
       "      <th>0</th>\n",
       "      <td>men's clothing</td>\n",
       "      <td>1</td>\n",
       "      <td>Fjallraven - Foldsack No. 1 Backpack, Fits 15 ...</td>\n",
       "      <td>109.95</td>\n",
       "      <td>Your perfect pack for everyday use and walks i...</td>\n",
       "    </tr>\n",
       "    <tr>\n",
       "      <th>13</th>\n",
       "      <td>women's clothing</td>\n",
       "      <td>18</td>\n",
       "      <td>MBJ Women's Solid Short Sleeve Boat Neck V</td>\n",
       "      <td>9.85</td>\n",
       "      <td>95% RAYON 5% SPANDEX, Made in USA or Imported,...</td>\n",
       "    </tr>\n",
       "  </tbody>\n",
       "</table>\n",
       "</div>"
      ],
      "text/plain": [
       "            category  product_id  \\\n",
       "12       electronics          12   \n",
       "5           jewelery           5   \n",
       "0     men's clothing           1   \n",
       "13  women's clothing          18   \n",
       "\n",
       "                                                title   price  \\\n",
       "12  WD 4TB Gaming Drive Works with Playstation 4 P...  114.00   \n",
       "5   John Hardy Women's Legends Naga Gold & Silver ...  695.00   \n",
       "0   Fjallraven - Foldsack No. 1 Backpack, Fits 15 ...  109.95   \n",
       "13        MBJ Women's Solid Short Sleeve Boat Neck V     9.85   \n",
       "\n",
       "                                          description  \n",
       "12  Expand your PS4 gaming experience, Play anywhe...  \n",
       "5   From our Legends Collection, the Naga was insp...  \n",
       "0   Your perfect pack for everyday use and walks i...  \n",
       "13  95% RAYON 5% SPANDEX, Made in USA or Imported,...  "
      ]
     },
     "execution_count": 16,
     "metadata": {},
     "output_type": "execute_result"
    }
   ],
   "source": [
    "# Índice do item com o preço mais alto por cada categoria\n",
    "top_category_items = df_insights.loc[df_insights.groupby('category')['price'].idxmax()]\n",
    "\n",
    "# Reorganização das colunas\n",
    "top_category_items = top_category_items[['category', 'product_id', 'title', 'price', 'description']]\n",
    "\n",
    "top_category_items\n"
   ]
  },
  {
   "cell_type": "code",
   "execution_count": null,
   "metadata": {},
   "outputs": [],
   "source": [
    "df_insights.to_parquet('C:/Users/candi/OneDrive/Documentos/GitHub/case_enjoei/datasets/gold/insights.parquet', index=False)"
   ]
  }
 ],
 "metadata": {
  "kernelspec": {
   "display_name": "Python 3",
   "language": "python",
   "name": "python3"
  },
  "language_info": {
   "codemirror_mode": {
    "name": "ipython",
    "version": 3
   },
   "file_extension": ".py",
   "mimetype": "text/x-python",
   "name": "python",
   "nbconvert_exporter": "python",
   "pygments_lexer": "ipython3",
   "version": "3.12.2"
  }
 },
 "nbformat": 4,
 "nbformat_minor": 2
}
