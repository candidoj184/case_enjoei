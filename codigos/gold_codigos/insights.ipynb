{
 "cells": [
  {
   "cell_type": "markdown",
   "metadata": {},
   "source": [
    "## Imports"
   ]
  },
  {
   "cell_type": "code",
   "execution_count": 1,
   "metadata": {},
   "outputs": [],
   "source": [
    "import pandas as pd"
   ]
  },
  {
   "cell_type": "markdown",
   "metadata": {},
   "source": [
    "## Leitura das bases da camada silver"
   ]
  },
  {
   "cell_type": "code",
   "execution_count": 9,
   "metadata": {},
   "outputs": [],
   "source": [
    "df_insights = pd.read_parquet('C:/Users/candi/OneDrive/Documentos/GitHub/case_enjoei/datasets/gold/dataset_gold.parquet')"
   ]
  },
  {
   "cell_type": "markdown",
   "metadata": {},
   "source": [
    "## Informações solicitadas pelo négocio"
   ]
  },
  {
   "cell_type": "code",
   "execution_count": null,
   "metadata": {},
   "outputs": [],
   "source": [
    "# Agrupamento por usuário e categoria + soma das quantidades de produtos por categoria\n",
    "category_totals = df_insights.groupby(['user_id', 'category'])['quantity'].sum().reset_index()\n",
    "\n",
    "# Encontrando a categoria mais adicionada pelousuário no carrinho\n",
    "most_category = category_totals.loc[category_totals.groupby('user_id')['quantity'].idxmax()]"
   ]
  },
  {
   "cell_type": "code",
   "execution_count": null,
   "metadata": {},
   "outputs": [],
   "source": [
    "# Última data de adição ao carrinho por usuário\n",
    "last_date_add = df_insights.groupby('user_id')['date'].max().reset_index()\n",
    "\n",
    "# Merge para incorporar a última data ao dataframe\n",
    "most_category = most_category.merge(last_date_add, on='user_id')"
   ]
  },
  {
   "cell_type": "code",
   "execution_count": 12,
   "metadata": {},
   "outputs": [
    {
     "data": {
      "text/html": [
       "<div>\n",
       "<style scoped>\n",
       "    .dataframe tbody tr th:only-of-type {\n",
       "        vertical-align: middle;\n",
       "    }\n",
       "\n",
       "    .dataframe tbody tr th {\n",
       "        vertical-align: top;\n",
       "    }\n",
       "\n",
       "    .dataframe thead th {\n",
       "        text-align: right;\n",
       "    }\n",
       "</style>\n",
       "<table border=\"1\" class=\"dataframe\">\n",
       "  <thead>\n",
       "    <tr style=\"text-align: right;\">\n",
       "      <th></th>\n",
       "      <th>user_id</th>\n",
       "      <th>full_name</th>\n",
       "      <th>date</th>\n",
       "      <th>category</th>\n",
       "      <th>quantity</th>\n",
       "    </tr>\n",
       "  </thead>\n",
       "  <tbody>\n",
       "    <tr>\n",
       "      <th>0</th>\n",
       "      <td>1</td>\n",
       "      <td>john doe</td>\n",
       "      <td>2020-03-02</td>\n",
       "      <td>men's clothing</td>\n",
       "      <td>25</td>\n",
       "    </tr>\n",
       "    <tr>\n",
       "      <th>6</th>\n",
       "      <td>2</td>\n",
       "      <td>david morrison</td>\n",
       "      <td>2020-03-01</td>\n",
       "      <td>men's clothing</td>\n",
       "      <td>2</td>\n",
       "    </tr>\n",
       "    <tr>\n",
       "      <th>8</th>\n",
       "      <td>3</td>\n",
       "      <td>kevin ryan</td>\n",
       "      <td>2020-03-01</td>\n",
       "      <td>men's clothing</td>\n",
       "      <td>4</td>\n",
       "    </tr>\n",
       "    <tr>\n",
       "      <th>11</th>\n",
       "      <td>4</td>\n",
       "      <td>don romer</td>\n",
       "      <td>2020-03-01</td>\n",
       "      <td>electronics</td>\n",
       "      <td>5</td>\n",
       "    </tr>\n",
       "    <tr>\n",
       "      <th>13</th>\n",
       "      <td>8</td>\n",
       "      <td>william hopkins</td>\n",
       "      <td>2020-03-01</td>\n",
       "      <td>women's clothing</td>\n",
       "      <td>1</td>\n",
       "    </tr>\n",
       "  </tbody>\n",
       "</table>\n",
       "</div>"
      ],
      "text/plain": [
       "    user_id        full_name        date          category  quantity\n",
       "0         1         john doe  2020-03-02    men's clothing        25\n",
       "6         2   david morrison  2020-03-01    men's clothing         2\n",
       "8         3       kevin ryan  2020-03-01    men's clothing         4\n",
       "11        4        don romer  2020-03-01       electronics         5\n",
       "13        8  william hopkins  2020-03-01  women's clothing         1"
      ]
     },
     "execution_count": 12,
     "metadata": {},
     "output_type": "execute_result"
    }
   ],
   "source": [
    "# Fazendo o merge para incorporar a coluna 'name' ao DataFrame\n",
    "merge = most_category.merge(df_insights[['user_id', 'full_name']], on='user_id')\n",
    "\n",
    "# Reorganizando as colunas para que 'full_name' venha após 'user_id'\n",
    "insight = merge[['user_id', 'full_name', 'date', 'category', 'quantity']]\n",
    "\n",
    "insight = insight.drop_duplicates()\n",
    "insight"
   ]
  },
  {
   "cell_type": "code",
   "execution_count": null,
   "metadata": {},
   "outputs": [],
   "source": [
    "insight.to_csv('C:/Users/candi/OneDrive/Documentos/GitHub/case_enjoei/datasets/gold/dataset_.csv', index=False)"
   ]
  },
  {
   "cell_type": "markdown",
   "metadata": {},
   "source": [
    "## Insights adicionais"
   ]
  },
  {
   "cell_type": "markdown",
   "metadata": {},
   "source": [
    "top comprador, top categoria geral, comprador com mais itens no carrinho"
   ]
  }
 ],
 "metadata": {
  "kernelspec": {
   "display_name": "Python 3",
   "language": "python",
   "name": "python3"
  },
  "language_info": {
   "codemirror_mode": {
    "name": "ipython",
    "version": 3
   },
   "file_extension": ".py",
   "mimetype": "text/x-python",
   "name": "python",
   "nbconvert_exporter": "python",
   "pygments_lexer": "ipython3",
   "version": "3.12.2"
  }
 },
 "nbformat": 4,
 "nbformat_minor": 2
}
