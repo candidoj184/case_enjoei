{
 "cells": [
  {
   "cell_type": "markdown",
   "metadata": {},
   "source": [
    "# Imports"
   ]
  },
  {
   "cell_type": "code",
   "execution_count": 2,
   "metadata": {},
   "outputs": [],
   "source": [
    "import requests\n",
    "import pandas as pd"
   ]
  },
  {
   "cell_type": "markdown",
   "metadata": {},
   "source": [
    "## Requisição da API users"
   ]
  },
  {
   "cell_type": "code",
   "execution_count": 3,
   "metadata": {},
   "outputs": [
    {
     "name": "stdout",
     "output_type": "stream",
     "text": [
      "[{'address': {'geolocation': {'lat': '-37.3159', 'long': '81.1496'}, 'city': 'kilcoole', 'street': 'new road', 'number': 7682, 'zipcode': '12926-3874'}, 'id': 1, 'email': 'john@gmail.com', 'username': 'johnd', 'password': 'm38rmF$', 'name': {'firstname': 'john', 'lastname': 'doe'}, 'phone': '1-570-236-7033', '__v': 0}, {'address': {'geolocation': {'lat': '-37.3159', 'long': '81.1496'}, 'city': 'kilcoole', 'street': 'Lovers Ln', 'number': 7267, 'zipcode': '12926-3874'}, 'id': 2, 'email': 'morrison@gmail.com', 'username': 'mor_2314', 'password': '83r5^_', 'name': {'firstname': 'david', 'lastname': 'morrison'}, 'phone': '1-570-236-7033', '__v': 0}, {'address': {'geolocation': {'lat': '40.3467', 'long': '-30.1310'}, 'city': 'Cullman', 'street': 'Frances Ct', 'number': 86, 'zipcode': '29567-1452'}, 'id': 3, 'email': 'kevin@gmail.com', 'username': 'kevinryan', 'password': 'kev02937@', 'name': {'firstname': 'kevin', 'lastname': 'ryan'}, 'phone': '1-567-094-1345', '__v': 0}, {'address': {'geolocation': {'lat': '50.3467', 'long': '-20.1310'}, 'city': 'San Antonio', 'street': 'Hunters Creek Dr', 'number': 6454, 'zipcode': '98234-1734'}, 'id': 4, 'email': 'don@gmail.com', 'username': 'donero', 'password': 'ewedon', 'name': {'firstname': 'don', 'lastname': 'romer'}, 'phone': '1-765-789-6734', '__v': 0}, {'address': {'geolocation': {'lat': '40.3467', 'long': '-40.1310'}, 'city': 'san Antonio', 'street': 'adams St', 'number': 245, 'zipcode': '80796-1234'}, 'id': 5, 'email': 'derek@gmail.com', 'username': 'derek', 'password': 'jklg*_56', 'name': {'firstname': 'derek', 'lastname': 'powell'}, 'phone': '1-956-001-1945', '__v': 0}, {'address': {'geolocation': {'lat': '20.1677', 'long': '-10.6789'}, 'city': 'el paso', 'street': 'prospect st', 'number': 124, 'zipcode': '12346-0456'}, 'id': 6, 'email': 'david_r@gmail.com', 'username': 'david_r', 'password': '3478*#54', 'name': {'firstname': 'david', 'lastname': 'russell'}, 'phone': '1-678-345-9856', '__v': 0}, {'address': {'geolocation': {'lat': '10.3456', 'long': '20.6419'}, 'city': 'fresno', 'street': 'saddle st', 'number': 1342, 'zipcode': '96378-0245'}, 'id': 7, 'email': 'miriam@gmail.com', 'username': 'snyder', 'password': 'f238&@*$', 'name': {'firstname': 'miriam', 'lastname': 'snyder'}, 'phone': '1-123-943-0563', '__v': 0}, {'address': {'geolocation': {'lat': '50.3456', 'long': '10.6419'}, 'city': 'mesa', 'street': 'vally view ln', 'number': 1342, 'zipcode': '96378-0245'}, 'id': 8, 'email': 'william@gmail.com', 'username': 'hopkins', 'password': 'William56$hj', 'name': {'firstname': 'william', 'lastname': 'hopkins'}, 'phone': '1-478-001-0890', '__v': 0}, {'address': {'geolocation': {'lat': '40.12456', 'long': '20.5419'}, 'city': 'miami', 'street': 'avondale ave', 'number': 345, 'zipcode': '96378-0245'}, 'id': 9, 'email': 'kate@gmail.com', 'username': 'kate_h', 'password': 'kfejk@*_', 'name': {'firstname': 'kate', 'lastname': 'hale'}, 'phone': '1-678-456-1934', '__v': 0}, {'address': {'geolocation': {'lat': '30.24788', 'long': '-20.545419'}, 'city': 'fort wayne', 'street': 'oak lawn ave', 'number': 526, 'zipcode': '10256-4532'}, 'id': 10, 'email': 'jimmie@gmail.com', 'username': 'jimmie_k', 'password': 'klein*#%*', 'name': {'firstname': 'jimmie', 'lastname': 'klein'}, 'phone': '1-104-001-4567', '__v': 0}]\n"
     ]
    }
   ],
   "source": [
    "response = requests.get(\"https://fakestoreapi.com/users\")\n",
    "data_sample = response.json()\n",
    "print(data_sample)"
   ]
  },
  {
   "cell_type": "markdown",
   "metadata": {},
   "source": [
    "## Transformando em um Dataframe e vizualizando os dados"
   ]
  },
  {
   "cell_type": "code",
   "execution_count": 4,
   "metadata": {},
   "outputs": [
    {
     "data": {
      "text/html": [
       "<div>\n",
       "<style scoped>\n",
       "    .dataframe tbody tr th:only-of-type {\n",
       "        vertical-align: middle;\n",
       "    }\n",
       "\n",
       "    .dataframe tbody tr th {\n",
       "        vertical-align: top;\n",
       "    }\n",
       "\n",
       "    .dataframe thead th {\n",
       "        text-align: right;\n",
       "    }\n",
       "</style>\n",
       "<table border=\"1\" class=\"dataframe\">\n",
       "  <thead>\n",
       "    <tr style=\"text-align: right;\">\n",
       "      <th></th>\n",
       "      <th>address</th>\n",
       "      <th>id</th>\n",
       "      <th>email</th>\n",
       "      <th>username</th>\n",
       "      <th>password</th>\n",
       "      <th>name</th>\n",
       "      <th>phone</th>\n",
       "      <th>__v</th>\n",
       "    </tr>\n",
       "  </thead>\n",
       "  <tbody>\n",
       "    <tr>\n",
       "      <th>0</th>\n",
       "      <td>{'geolocation': {'lat': '-37.3159', 'long': '8...</td>\n",
       "      <td>1</td>\n",
       "      <td>john@gmail.com</td>\n",
       "      <td>johnd</td>\n",
       "      <td>m38rmF$</td>\n",
       "      <td>{'firstname': 'john', 'lastname': 'doe'}</td>\n",
       "      <td>1-570-236-7033</td>\n",
       "      <td>0</td>\n",
       "    </tr>\n",
       "    <tr>\n",
       "      <th>1</th>\n",
       "      <td>{'geolocation': {'lat': '-37.3159', 'long': '8...</td>\n",
       "      <td>2</td>\n",
       "      <td>morrison@gmail.com</td>\n",
       "      <td>mor_2314</td>\n",
       "      <td>83r5^_</td>\n",
       "      <td>{'firstname': 'david', 'lastname': 'morrison'}</td>\n",
       "      <td>1-570-236-7033</td>\n",
       "      <td>0</td>\n",
       "    </tr>\n",
       "    <tr>\n",
       "      <th>2</th>\n",
       "      <td>{'geolocation': {'lat': '40.3467', 'long': '-3...</td>\n",
       "      <td>3</td>\n",
       "      <td>kevin@gmail.com</td>\n",
       "      <td>kevinryan</td>\n",
       "      <td>kev02937@</td>\n",
       "      <td>{'firstname': 'kevin', 'lastname': 'ryan'}</td>\n",
       "      <td>1-567-094-1345</td>\n",
       "      <td>0</td>\n",
       "    </tr>\n",
       "    <tr>\n",
       "      <th>3</th>\n",
       "      <td>{'geolocation': {'lat': '50.3467', 'long': '-2...</td>\n",
       "      <td>4</td>\n",
       "      <td>don@gmail.com</td>\n",
       "      <td>donero</td>\n",
       "      <td>ewedon</td>\n",
       "      <td>{'firstname': 'don', 'lastname': 'romer'}</td>\n",
       "      <td>1-765-789-6734</td>\n",
       "      <td>0</td>\n",
       "    </tr>\n",
       "    <tr>\n",
       "      <th>4</th>\n",
       "      <td>{'geolocation': {'lat': '40.3467', 'long': '-4...</td>\n",
       "      <td>5</td>\n",
       "      <td>derek@gmail.com</td>\n",
       "      <td>derek</td>\n",
       "      <td>jklg*_56</td>\n",
       "      <td>{'firstname': 'derek', 'lastname': 'powell'}</td>\n",
       "      <td>1-956-001-1945</td>\n",
       "      <td>0</td>\n",
       "    </tr>\n",
       "  </tbody>\n",
       "</table>\n",
       "</div>"
      ],
      "text/plain": [
       "                                             address  id               email  \\\n",
       "0  {'geolocation': {'lat': '-37.3159', 'long': '8...   1      john@gmail.com   \n",
       "1  {'geolocation': {'lat': '-37.3159', 'long': '8...   2  morrison@gmail.com   \n",
       "2  {'geolocation': {'lat': '40.3467', 'long': '-3...   3     kevin@gmail.com   \n",
       "3  {'geolocation': {'lat': '50.3467', 'long': '-2...   4       don@gmail.com   \n",
       "4  {'geolocation': {'lat': '40.3467', 'long': '-4...   5     derek@gmail.com   \n",
       "\n",
       "    username   password                                            name  \\\n",
       "0      johnd    m38rmF$        {'firstname': 'john', 'lastname': 'doe'}   \n",
       "1   mor_2314     83r5^_  {'firstname': 'david', 'lastname': 'morrison'}   \n",
       "2  kevinryan  kev02937@      {'firstname': 'kevin', 'lastname': 'ryan'}   \n",
       "3     donero     ewedon       {'firstname': 'don', 'lastname': 'romer'}   \n",
       "4      derek   jklg*_56    {'firstname': 'derek', 'lastname': 'powell'}   \n",
       "\n",
       "            phone  __v  \n",
       "0  1-570-236-7033    0  \n",
       "1  1-570-236-7033    0  \n",
       "2  1-567-094-1345    0  \n",
       "3  1-765-789-6734    0  \n",
       "4  1-956-001-1945    0  "
      ]
     },
     "execution_count": 4,
     "metadata": {},
     "output_type": "execute_result"
    }
   ],
   "source": [
    "df = pd.DataFrame(data_sample)\n",
    "df.head()"
   ]
  },
  {
   "cell_type": "markdown",
   "metadata": {},
   "source": [
    "### Verificação de tipagem dos dados"
   ]
  },
  {
   "cell_type": "code",
   "execution_count": 5,
   "metadata": {},
   "outputs": [
    {
     "data": {
      "text/plain": [
       "address     object\n",
       "id           int64\n",
       "email       object\n",
       "username    object\n",
       "password    object\n",
       "name        object\n",
       "phone       object\n",
       "__v          int64\n",
       "dtype: object"
      ]
     },
     "execution_count": 5,
     "metadata": {},
     "output_type": "execute_result"
    }
   ],
   "source": [
    "df.dtypes"
   ]
  },
  {
   "cell_type": "markdown",
   "metadata": {},
   "source": [
    "## Salvando na camada bronze"
   ]
  },
  {
   "cell_type": "code",
   "execution_count": 6,
   "metadata": {},
   "outputs": [],
   "source": [
    "df.to_parquet('C:/Users/candi/OneDrive/Documentos/GitHub/case_enjoei/datasets/bronze/users.parquet')"
   ]
  },
  {
   "cell_type": "code",
   "execution_count": null,
   "metadata": {},
   "outputs": [],
   "source": []
  }
 ],
 "metadata": {
  "kernelspec": {
   "display_name": "Python 3",
   "language": "python",
   "name": "python3"
  },
  "language_info": {
   "codemirror_mode": {
    "name": "ipython",
    "version": 3
   },
   "file_extension": ".py",
   "mimetype": "text/x-python",
   "name": "python",
   "nbconvert_exporter": "python",
   "pygments_lexer": "ipython3",
   "version": "3.12.2"
  }
 },
 "nbformat": 4,
 "nbformat_minor": 2
}
